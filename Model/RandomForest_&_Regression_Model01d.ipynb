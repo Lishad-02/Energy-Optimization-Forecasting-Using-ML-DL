{
  "nbformat": 4,
  "nbformat_minor": 0,
  "metadata": {
    "colab": {
      "provenance": []
    },
    "kernelspec": {
      "name": "python3",
      "display_name": "Python 3"
    },
    "language_info": {
      "name": "python"
    }
  },
  "cells": [
    {
      "cell_type": "code",
      "execution_count": 118,
      "metadata": {
        "colab": {
          "base_uri": "https://localhost:8080/"
        },
        "id": "i6mdD-CoN7nI",
        "outputId": "9a8b6c70-ab00-4e79-cc71-1ae0cdf30086"
      },
      "outputs": [
        {
          "output_type": "stream",
          "name": "stdout",
          "text": [
            "Requirement already satisfied: scikit-learn in /usr/local/lib/python3.11/dist-packages (1.6.1)\n",
            "Requirement already satisfied: numpy>=1.19.5 in /usr/local/lib/python3.11/dist-packages (from scikit-learn) (1.26.4)\n",
            "Requirement already satisfied: scipy>=1.6.0 in /usr/local/lib/python3.11/dist-packages (from scikit-learn) (1.13.1)\n",
            "Requirement already satisfied: joblib>=1.2.0 in /usr/local/lib/python3.11/dist-packages (from scikit-learn) (1.4.2)\n",
            "Requirement already satisfied: threadpoolctl>=3.1.0 in /usr/local/lib/python3.11/dist-packages (from scikit-learn) (3.5.0)\n"
          ]
        }
      ],
      "source": [
        "#Import necessary libraries\n",
        "!pip install scikit-learn\n",
        "\n",
        "import numpy as np\n",
        "import pandas as pd"
      ]
    },
    {
      "cell_type": "code",
      "source": [
        "from google.colab import drive\n",
        "drive.mount('/content/drive')"
      ],
      "metadata": {
        "colab": {
          "base_uri": "https://localhost:8080/"
        },
        "id": "yHdjrySPOTrB",
        "outputId": "ff0930fe-49cf-4e97-be05-8bb95687fd42"
      },
      "execution_count": 119,
      "outputs": [
        {
          "output_type": "stream",
          "name": "stdout",
          "text": [
            "Drive already mounted at /content/drive; to attempt to forcibly remount, call drive.mount(\"/content/drive\", force_remount=True).\n"
          ]
        }
      ]
    },
    {
      "cell_type": "code",
      "source": [
        "#Load the dataset\n",
        "df = pd.read_csv('/content/energy_iter13d.csv')"
      ],
      "metadata": {
        "id": "sMrs_jBROV9c"
      },
      "execution_count": 120,
      "outputs": []
    },
    {
      "cell_type": "code",
      "source": [
        "#Extract day from date\n",
        "df['Date']=pd.to_datetime(df['Date'])\n",
        "df['Day']=df['Date'].dt.day"
      ],
      "metadata": {
        "id": "KgTqZv6MnSfx"
      },
      "execution_count": 121,
      "outputs": []
    },
    {
      "cell_type": "code",
      "source": [
        "df.head(5)"
      ],
      "metadata": {
        "colab": {
          "base_uri": "https://localhost:8080/",
          "height": 206
        },
        "id": "0wmNt8D4oHQ9",
        "outputId": "1193f9c9-5c13-427d-e2df-7f43d731f7e4"
      },
      "execution_count": 122,
      "outputs": [
        {
          "output_type": "execute_result",
          "data": {
            "text/plain": [
              "        Date  Demand(MW)  Generation(MW)   Temp(C)  Year  Month  Season  \\\n",
              "0 2024-12-31   -0.855166        0.529269 -2.440777  2024     12       0   \n",
              "1 2024-12-30   -0.754021        0.888984 -1.572038  2024     12       0   \n",
              "2 2024-12-29   -0.754021        0.378817 -1.740181  2024     12       0   \n",
              "3 2024-12-28   -1.234458        0.216740 -1.740181  2024     12       0   \n",
              "4 2024-12-27   -0.855166        0.166818 -1.684133  2024     12       0   \n",
              "\n",
              "   IsHoliday  DemandGenGap(MW)  Day  \n",
              "0          0          1.588629   31  \n",
              "1          0          1.794999   30  \n",
              "2          0          1.322754   29  \n",
              "3          0          1.774109   28  \n",
              "4          1          1.253119   27  "
            ],
            "text/html": [
              "\n",
              "  <div id=\"df-41f8eee2-75f0-4b02-99b4-92aa636733ee\" class=\"colab-df-container\">\n",
              "    <div>\n",
              "<style scoped>\n",
              "    .dataframe tbody tr th:only-of-type {\n",
              "        vertical-align: middle;\n",
              "    }\n",
              "\n",
              "    .dataframe tbody tr th {\n",
              "        vertical-align: top;\n",
              "    }\n",
              "\n",
              "    .dataframe thead th {\n",
              "        text-align: right;\n",
              "    }\n",
              "</style>\n",
              "<table border=\"1\" class=\"dataframe\">\n",
              "  <thead>\n",
              "    <tr style=\"text-align: right;\">\n",
              "      <th></th>\n",
              "      <th>Date</th>\n",
              "      <th>Demand(MW)</th>\n",
              "      <th>Generation(MW)</th>\n",
              "      <th>Temp(C)</th>\n",
              "      <th>Year</th>\n",
              "      <th>Month</th>\n",
              "      <th>Season</th>\n",
              "      <th>IsHoliday</th>\n",
              "      <th>DemandGenGap(MW)</th>\n",
              "      <th>Day</th>\n",
              "    </tr>\n",
              "  </thead>\n",
              "  <tbody>\n",
              "    <tr>\n",
              "      <th>0</th>\n",
              "      <td>2024-12-31</td>\n",
              "      <td>-0.855166</td>\n",
              "      <td>0.529269</td>\n",
              "      <td>-2.440777</td>\n",
              "      <td>2024</td>\n",
              "      <td>12</td>\n",
              "      <td>0</td>\n",
              "      <td>0</td>\n",
              "      <td>1.588629</td>\n",
              "      <td>31</td>\n",
              "    </tr>\n",
              "    <tr>\n",
              "      <th>1</th>\n",
              "      <td>2024-12-30</td>\n",
              "      <td>-0.754021</td>\n",
              "      <td>0.888984</td>\n",
              "      <td>-1.572038</td>\n",
              "      <td>2024</td>\n",
              "      <td>12</td>\n",
              "      <td>0</td>\n",
              "      <td>0</td>\n",
              "      <td>1.794999</td>\n",
              "      <td>30</td>\n",
              "    </tr>\n",
              "    <tr>\n",
              "      <th>2</th>\n",
              "      <td>2024-12-29</td>\n",
              "      <td>-0.754021</td>\n",
              "      <td>0.378817</td>\n",
              "      <td>-1.740181</td>\n",
              "      <td>2024</td>\n",
              "      <td>12</td>\n",
              "      <td>0</td>\n",
              "      <td>0</td>\n",
              "      <td>1.322754</td>\n",
              "      <td>29</td>\n",
              "    </tr>\n",
              "    <tr>\n",
              "      <th>3</th>\n",
              "      <td>2024-12-28</td>\n",
              "      <td>-1.234458</td>\n",
              "      <td>0.216740</td>\n",
              "      <td>-1.740181</td>\n",
              "      <td>2024</td>\n",
              "      <td>12</td>\n",
              "      <td>0</td>\n",
              "      <td>0</td>\n",
              "      <td>1.774109</td>\n",
              "      <td>28</td>\n",
              "    </tr>\n",
              "    <tr>\n",
              "      <th>4</th>\n",
              "      <td>2024-12-27</td>\n",
              "      <td>-0.855166</td>\n",
              "      <td>0.166818</td>\n",
              "      <td>-1.684133</td>\n",
              "      <td>2024</td>\n",
              "      <td>12</td>\n",
              "      <td>0</td>\n",
              "      <td>1</td>\n",
              "      <td>1.253119</td>\n",
              "      <td>27</td>\n",
              "    </tr>\n",
              "  </tbody>\n",
              "</table>\n",
              "</div>\n",
              "    <div class=\"colab-df-buttons\">\n",
              "\n",
              "  <div class=\"colab-df-container\">\n",
              "    <button class=\"colab-df-convert\" onclick=\"convertToInteractive('df-41f8eee2-75f0-4b02-99b4-92aa636733ee')\"\n",
              "            title=\"Convert this dataframe to an interactive table.\"\n",
              "            style=\"display:none;\">\n",
              "\n",
              "  <svg xmlns=\"http://www.w3.org/2000/svg\" height=\"24px\" viewBox=\"0 -960 960 960\">\n",
              "    <path d=\"M120-120v-720h720v720H120Zm60-500h600v-160H180v160Zm220 220h160v-160H400v160Zm0 220h160v-160H400v160ZM180-400h160v-160H180v160Zm440 0h160v-160H620v160ZM180-180h160v-160H180v160Zm440 0h160v-160H620v160Z\"/>\n",
              "  </svg>\n",
              "    </button>\n",
              "\n",
              "  <style>\n",
              "    .colab-df-container {\n",
              "      display:flex;\n",
              "      gap: 12px;\n",
              "    }\n",
              "\n",
              "    .colab-df-convert {\n",
              "      background-color: #E8F0FE;\n",
              "      border: none;\n",
              "      border-radius: 50%;\n",
              "      cursor: pointer;\n",
              "      display: none;\n",
              "      fill: #1967D2;\n",
              "      height: 32px;\n",
              "      padding: 0 0 0 0;\n",
              "      width: 32px;\n",
              "    }\n",
              "\n",
              "    .colab-df-convert:hover {\n",
              "      background-color: #E2EBFA;\n",
              "      box-shadow: 0px 1px 2px rgba(60, 64, 67, 0.3), 0px 1px 3px 1px rgba(60, 64, 67, 0.15);\n",
              "      fill: #174EA6;\n",
              "    }\n",
              "\n",
              "    .colab-df-buttons div {\n",
              "      margin-bottom: 4px;\n",
              "    }\n",
              "\n",
              "    [theme=dark] .colab-df-convert {\n",
              "      background-color: #3B4455;\n",
              "      fill: #D2E3FC;\n",
              "    }\n",
              "\n",
              "    [theme=dark] .colab-df-convert:hover {\n",
              "      background-color: #434B5C;\n",
              "      box-shadow: 0px 1px 3px 1px rgba(0, 0, 0, 0.15);\n",
              "      filter: drop-shadow(0px 1px 2px rgba(0, 0, 0, 0.3));\n",
              "      fill: #FFFFFF;\n",
              "    }\n",
              "  </style>\n",
              "\n",
              "    <script>\n",
              "      const buttonEl =\n",
              "        document.querySelector('#df-41f8eee2-75f0-4b02-99b4-92aa636733ee button.colab-df-convert');\n",
              "      buttonEl.style.display =\n",
              "        google.colab.kernel.accessAllowed ? 'block' : 'none';\n",
              "\n",
              "      async function convertToInteractive(key) {\n",
              "        const element = document.querySelector('#df-41f8eee2-75f0-4b02-99b4-92aa636733ee');\n",
              "        const dataTable =\n",
              "          await google.colab.kernel.invokeFunction('convertToInteractive',\n",
              "                                                    [key], {});\n",
              "        if (!dataTable) return;\n",
              "\n",
              "        const docLinkHtml = 'Like what you see? Visit the ' +\n",
              "          '<a target=\"_blank\" href=https://colab.research.google.com/notebooks/data_table.ipynb>data table notebook</a>'\n",
              "          + ' to learn more about interactive tables.';\n",
              "        element.innerHTML = '';\n",
              "        dataTable['output_type'] = 'display_data';\n",
              "        await google.colab.output.renderOutput(dataTable, element);\n",
              "        const docLink = document.createElement('div');\n",
              "        docLink.innerHTML = docLinkHtml;\n",
              "        element.appendChild(docLink);\n",
              "      }\n",
              "    </script>\n",
              "  </div>\n",
              "\n",
              "\n",
              "<div id=\"df-c5434e2c-1398-4835-ac41-d6e16ac1bb12\">\n",
              "  <button class=\"colab-df-quickchart\" onclick=\"quickchart('df-c5434e2c-1398-4835-ac41-d6e16ac1bb12')\"\n",
              "            title=\"Suggest charts\"\n",
              "            style=\"display:none;\">\n",
              "\n",
              "<svg xmlns=\"http://www.w3.org/2000/svg\" height=\"24px\"viewBox=\"0 0 24 24\"\n",
              "     width=\"24px\">\n",
              "    <g>\n",
              "        <path d=\"M19 3H5c-1.1 0-2 .9-2 2v14c0 1.1.9 2 2 2h14c1.1 0 2-.9 2-2V5c0-1.1-.9-2-2-2zM9 17H7v-7h2v7zm4 0h-2V7h2v10zm4 0h-2v-4h2v4z\"/>\n",
              "    </g>\n",
              "</svg>\n",
              "  </button>\n",
              "\n",
              "<style>\n",
              "  .colab-df-quickchart {\n",
              "      --bg-color: #E8F0FE;\n",
              "      --fill-color: #1967D2;\n",
              "      --hover-bg-color: #E2EBFA;\n",
              "      --hover-fill-color: #174EA6;\n",
              "      --disabled-fill-color: #AAA;\n",
              "      --disabled-bg-color: #DDD;\n",
              "  }\n",
              "\n",
              "  [theme=dark] .colab-df-quickchart {\n",
              "      --bg-color: #3B4455;\n",
              "      --fill-color: #D2E3FC;\n",
              "      --hover-bg-color: #434B5C;\n",
              "      --hover-fill-color: #FFFFFF;\n",
              "      --disabled-bg-color: #3B4455;\n",
              "      --disabled-fill-color: #666;\n",
              "  }\n",
              "\n",
              "  .colab-df-quickchart {\n",
              "    background-color: var(--bg-color);\n",
              "    border: none;\n",
              "    border-radius: 50%;\n",
              "    cursor: pointer;\n",
              "    display: none;\n",
              "    fill: var(--fill-color);\n",
              "    height: 32px;\n",
              "    padding: 0;\n",
              "    width: 32px;\n",
              "  }\n",
              "\n",
              "  .colab-df-quickchart:hover {\n",
              "    background-color: var(--hover-bg-color);\n",
              "    box-shadow: 0 1px 2px rgba(60, 64, 67, 0.3), 0 1px 3px 1px rgba(60, 64, 67, 0.15);\n",
              "    fill: var(--button-hover-fill-color);\n",
              "  }\n",
              "\n",
              "  .colab-df-quickchart-complete:disabled,\n",
              "  .colab-df-quickchart-complete:disabled:hover {\n",
              "    background-color: var(--disabled-bg-color);\n",
              "    fill: var(--disabled-fill-color);\n",
              "    box-shadow: none;\n",
              "  }\n",
              "\n",
              "  .colab-df-spinner {\n",
              "    border: 2px solid var(--fill-color);\n",
              "    border-color: transparent;\n",
              "    border-bottom-color: var(--fill-color);\n",
              "    animation:\n",
              "      spin 1s steps(1) infinite;\n",
              "  }\n",
              "\n",
              "  @keyframes spin {\n",
              "    0% {\n",
              "      border-color: transparent;\n",
              "      border-bottom-color: var(--fill-color);\n",
              "      border-left-color: var(--fill-color);\n",
              "    }\n",
              "    20% {\n",
              "      border-color: transparent;\n",
              "      border-left-color: var(--fill-color);\n",
              "      border-top-color: var(--fill-color);\n",
              "    }\n",
              "    30% {\n",
              "      border-color: transparent;\n",
              "      border-left-color: var(--fill-color);\n",
              "      border-top-color: var(--fill-color);\n",
              "      border-right-color: var(--fill-color);\n",
              "    }\n",
              "    40% {\n",
              "      border-color: transparent;\n",
              "      border-right-color: var(--fill-color);\n",
              "      border-top-color: var(--fill-color);\n",
              "    }\n",
              "    60% {\n",
              "      border-color: transparent;\n",
              "      border-right-color: var(--fill-color);\n",
              "    }\n",
              "    80% {\n",
              "      border-color: transparent;\n",
              "      border-right-color: var(--fill-color);\n",
              "      border-bottom-color: var(--fill-color);\n",
              "    }\n",
              "    90% {\n",
              "      border-color: transparent;\n",
              "      border-bottom-color: var(--fill-color);\n",
              "    }\n",
              "  }\n",
              "</style>\n",
              "\n",
              "  <script>\n",
              "    async function quickchart(key) {\n",
              "      const quickchartButtonEl =\n",
              "        document.querySelector('#' + key + ' button');\n",
              "      quickchartButtonEl.disabled = true;  // To prevent multiple clicks.\n",
              "      quickchartButtonEl.classList.add('colab-df-spinner');\n",
              "      try {\n",
              "        const charts = await google.colab.kernel.invokeFunction(\n",
              "            'suggestCharts', [key], {});\n",
              "      } catch (error) {\n",
              "        console.error('Error during call to suggestCharts:', error);\n",
              "      }\n",
              "      quickchartButtonEl.classList.remove('colab-df-spinner');\n",
              "      quickchartButtonEl.classList.add('colab-df-quickchart-complete');\n",
              "    }\n",
              "    (() => {\n",
              "      let quickchartButtonEl =\n",
              "        document.querySelector('#df-c5434e2c-1398-4835-ac41-d6e16ac1bb12 button');\n",
              "      quickchartButtonEl.style.display =\n",
              "        google.colab.kernel.accessAllowed ? 'block' : 'none';\n",
              "    })();\n",
              "  </script>\n",
              "</div>\n",
              "\n",
              "    </div>\n",
              "  </div>\n"
            ],
            "application/vnd.google.colaboratory.intrinsic+json": {
              "type": "dataframe",
              "variable_name": "df",
              "summary": "{\n  \"name\": \"df\",\n  \"rows\": 1636,\n  \"fields\": [\n    {\n      \"column\": \"Date\",\n      \"properties\": {\n        \"dtype\": \"date\",\n        \"min\": \"2020-06-02 00:00:00\",\n        \"max\": \"2024-12-31 00:00:00\",\n        \"num_unique_values\": 1636,\n        \"samples\": [\n          \"2023-01-27 00:00:00\",\n          \"2020-07-18 00:00:00\",\n          \"2022-03-24 00:00:00\"\n        ],\n        \"semantic_type\": \"\",\n        \"description\": \"\"\n      }\n    },\n    {\n      \"column\": \"Demand(MW)\",\n      \"properties\": {\n        \"dtype\": \"number\",\n        \"std\": 1.0003057636518409,\n        \"min\": -2.271191917285229,\n        \"max\": 2.5331827328820347,\n        \"num_unique_values\": 107,\n        \"samples\": [\n          -1.7654682698992012,\n          -1.0068827988201596,\n          -0.8045933398657485\n        ],\n        \"semantic_type\": \"\",\n        \"description\": \"\"\n      }\n    },\n    {\n      \"column\": \"Generation(MW)\",\n      \"properties\": {\n        \"dtype\": \"number\",\n        \"std\": 1.0003057636518482,\n        \"min\": -2.688336295532315,\n        \"max\": 2.3681930927016,\n        \"num_unique_values\": 1363,\n        \"samples\": [\n          0.7891389464435381,\n          -1.254262434682096,\n          -1.6173970174724948\n        ],\n        \"semantic_type\": \"\",\n        \"description\": \"\"\n      }\n    },\n    {\n      \"column\": \"Temp(C)\",\n      \"properties\": {\n        \"dtype\": \"number\",\n        \"std\": 1.0003057636518449,\n        \"min\": -2.580896726251789,\n        \"max\": 1.7908257417123303,\n        \"num_unique_values\": 159,\n        \"samples\": [\n          0.641847400773043,\n          1.6787302938158148,\n          -1.515989971234888\n        ],\n        \"semantic_type\": \"\",\n        \"description\": \"\"\n      }\n    },\n    {\n      \"column\": \"Year\",\n      \"properties\": {\n        \"dtype\": \"number\",\n        \"std\": 1,\n        \"min\": 2020,\n        \"max\": 2024,\n        \"num_unique_values\": 5,\n        \"samples\": [\n          2023,\n          2020,\n          2022\n        ],\n        \"semantic_type\": \"\",\n        \"description\": \"\"\n      }\n    },\n    {\n      \"column\": \"Month\",\n      \"properties\": {\n        \"dtype\": \"number\",\n        \"std\": 3,\n        \"min\": 1,\n        \"max\": 12,\n        \"num_unique_values\": 12,\n        \"samples\": [\n          2,\n          3,\n          12\n        ],\n        \"semantic_type\": \"\",\n        \"description\": \"\"\n      }\n    },\n    {\n      \"column\": \"Season\",\n      \"properties\": {\n        \"dtype\": \"number\",\n        \"std\": 0,\n        \"min\": 0,\n        \"max\": 1,\n        \"num_unique_values\": 2,\n        \"samples\": [\n          1,\n          0\n        ],\n        \"semantic_type\": \"\",\n        \"description\": \"\"\n      }\n    },\n    {\n      \"column\": \"IsHoliday\",\n      \"properties\": {\n        \"dtype\": \"number\",\n        \"std\": 0,\n        \"min\": 0,\n        \"max\": 1,\n        \"num_unique_values\": 2,\n        \"samples\": [\n          1,\n          0\n        ],\n        \"semantic_type\": \"\",\n        \"description\": \"\"\n      }\n    },\n    {\n      \"column\": \"DemandGenGap(MW)\",\n      \"properties\": {\n        \"dtype\": \"number\",\n        \"std\": 1.000305763651848,\n        \"min\": -2.7058948072122546,\n        \"max\": 3.0053662591439334,\n        \"num_unique_values\": 1405,\n        \"samples\": [\n          0.155433060215142,\n          -0.9511158584271342\n        ],\n        \"semantic_type\": \"\",\n        \"description\": \"\"\n      }\n    },\n    {\n      \"column\": \"Day\",\n      \"properties\": {\n        \"dtype\": \"int32\",\n        \"num_unique_values\": 31,\n        \"samples\": [\n          2,\n          14\n        ],\n        \"semantic_type\": \"\",\n        \"description\": \"\"\n      }\n    }\n  ]\n}"
            }
          },
          "metadata": {},
          "execution_count": 122
        }
      ]
    },
    {
      "cell_type": "markdown",
      "source": [
        "# **Random Forest**"
      ],
      "metadata": {
        "id": "b4sTfFNamvLe"
      }
    },
    {
      "cell_type": "code",
      "source": [
        "from sklearn.ensemble import RandomForestRegressor\n",
        "from sklearn.model_selection import train_test_split, RandomizedSearchCV\n",
        "from sklearn.metrics import mean_absolute_error, mean_squared_error, r2_score\n",
        "from scipy.stats import randint"
      ],
      "metadata": {
        "id": "x-jy5LcfZIhj"
      },
      "execution_count": 123,
      "outputs": []
    },
    {
      "cell_type": "code",
      "source": [
        "#Separate features and target for train-test split\n",
        "#Drop the Date features beause we cant use date as datestamp format in Random Forest model\n",
        "#Our Target is Energy Demand\n",
        "\n",
        "X = df.drop(columns=['Demand(MW)','Date','DemandGenGap(MW)'])\n",
        "y = df['Demand(MW)']\n",
        "\n",
        "#Split the dataset: 20% for Testing and 80% for Training\n",
        "#For the consistency in result we use random_state= 42\n",
        "X_train, X_test, y_train, y_test = train_test_split(X, y,test_size=0.2,random_state=42)\n",
        "\n",
        "#Define Forest classifier\n",
        "rf_reg= RandomForestRegressor()\n",
        "\n",
        "#Use different hyperparameter combinations\n",
        "param_dist = {\n",
        "    'n_estimators':randint(50,200,10),\n",
        "    'max_depth':[None,10,20, 30],\n",
        "    'min_samples_split':randint(2,10),\n",
        "    'min_samples_leaf':randint(1,4)\n",
        "    }\n",
        "\n",
        "random_search = RandomizedSearchCV(estimator=rf_reg, param_distributions=param_dist, n_iter=10, cv=5, random_state=42)\n",
        "random_search.fit(X_train, y_train)\n",
        "\n",
        "#Find the best hyperparameters combinations\n",
        "best_params = random_search.best_params_\n",
        "print(\"Best Hyperparameters:\",  best_params)\n",
        "\n",
        "# Train the model with the best hyperparameters\n",
        "rf_reg= RandomForestRegressor(**best_params)\n",
        "rf_reg.fit(X_train, y_train)\n",
        "\n",
        "#Prediction\n",
        "y_pred = rf_reg.predict(X_test)\n",
        "\n",
        "#Different types of evaluation parameter\n",
        "r2=r2_score(y_test,y_pred)\n",
        "mae=mean_absolute_error(y_test,y_pred)\n",
        "mse=mean_squared_error(y_test,y_pred)\n",
        "rmse=np.sqrt(mse)\n",
        "\n",
        "\n",
        "print(f\"R Squared: {r2:.5f}\")\n",
        "print(f'Mean absolute error: {mae:.5f}')\n",
        "print(f'Mean Squared error: {mse:.5f}')\n",
        "print(f'Root Mean Squared error: {rmse:.5f}')\n"
      ],
      "metadata": {
        "colab": {
          "base_uri": "https://localhost:8080/"
        },
        "id": "LL6GiGqqOtjc",
        "outputId": "2d5dc5d9-4a8b-4bb4-bd9b-2827002b4623"
      },
      "execution_count": 124,
      "outputs": [
        {
          "output_type": "stream",
          "name": "stdout",
          "text": [
            "Best Hyperparameters: {'max_depth': 30, 'min_samples_leaf': 1, 'min_samples_split': 2, 'n_estimators': 117}\n",
            "R Squared: 0.89449\n",
            "Mean absolute error: 0.22679\n",
            "Mean Squared error: 0.10094\n",
            "Root Mean Squared error: 0.31770\n"
          ]
        }
      ]
    },
    {
      "cell_type": "markdown",
      "source": [
        "# **Linear Regression**"
      ],
      "metadata": {
        "id": "iGuBbaAoMvoI"
      }
    },
    {
      "cell_type": "code",
      "source": [
        "from sklearn.linear_model import LinearRegression\n",
        "from sklearn.preprocessing import StandardScaler"
      ],
      "metadata": {
        "id": "v2XrNDiKJJ-M"
      },
      "execution_count": 125,
      "outputs": []
    },
    {
      "cell_type": "code",
      "source": [
        "#Scaling(Day,Year,Month)features just for Linear regression model\n",
        "#Use Standard Scaler\n",
        "\n",
        "features=[\"Day\",\"Month\",\"Year\"]\n",
        "scaler=StandardScaler()\n",
        "df[features]=scaler.fit_transform(df[features])\n",
        "\n",
        "print(\"scaling done\")"
      ],
      "metadata": {
        "colab": {
          "base_uri": "https://localhost:8080/"
        },
        "id": "2TYhqgDmTBBo",
        "outputId": "368c6603-62f0-405f-bd95-4755aff20c4e"
      },
      "execution_count": 126,
      "outputs": [
        {
          "output_type": "stream",
          "name": "stdout",
          "text": [
            "scaling done\n"
          ]
        }
      ]
    },
    {
      "cell_type": "code",
      "source": [
        "#Separate features and target for train-test split\n",
        "#Drop the Date features beause we cant use date as datestamp format in Linear Regression\n",
        "#Our Target is Energy Demand\n",
        "\n",
        "X = df.drop(columns=['Demand(MW)','Date','DemandGenGap(MW)'])\n",
        "y = df['Demand(MW)']\n",
        "\n",
        "X_train, X_test, y_train, y_test = train_test_split(X, y,test_size=0.2,random_state=42)\n",
        "\n",
        "#Train the model\n",
        "lr_model=LinearRegression()\n",
        "lr_model.fit(X_train,y_train)\n",
        "\n",
        "#prediction\n",
        "y_pred=lr_model.predict(X_test)\n",
        "\n",
        "#evaluation parameter\n",
        "r2=r2_score(y_test,y_pred)\n",
        "mae=mean_absolute_error(y_test,y_pred)\n",
        "mse=mean_squared_error(y_test,y_pred)\n",
        "rmse=np.sqrt(mse)\n",
        "\n",
        "#Show result with different evaluation parameter\n",
        "print(f\"R Squared:{r2:.5f}\")\n",
        "print(f'Mean absolute error:{mae:.5f}')\n",
        "print(f'Mean Squared error:{mse:.5f}')\n",
        "print(f'Root Mean Squared error:{rmse:.5f}')"
      ],
      "metadata": {
        "colab": {
          "base_uri": "https://localhost:8080/"
        },
        "id": "8042pYrhUCOB",
        "outputId": "245b656f-b7de-4313-fde0-4ccaea152bb7"
      },
      "execution_count": 127,
      "outputs": [
        {
          "output_type": "stream",
          "name": "stdout",
          "text": [
            "R Squared:0.84928\n",
            "Mean absolute error:0.29129\n",
            "Mean Squared error:0.14418\n",
            "Root Mean Squared error:0.37972\n"
          ]
        }
      ]
    }
  ]
}