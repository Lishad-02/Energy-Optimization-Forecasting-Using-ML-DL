{
  "nbformat": 4,
  "nbformat_minor": 0,
  "metadata": {
    "colab": {
      "provenance": []
    },
    "kernelspec": {
      "name": "python3",
      "display_name": "Python 3"
    },
    "language_info": {
      "name": "python"
    }
  },
  "cells": [
    {
      "cell_type": "code",
      "source": [
        " #Install the missing 'optuna' library\n",
        "!pip install optuna"
      ],
      "metadata": {
        "colab": {
          "base_uri": "https://localhost:8080/"
        },
        "id": "NKwXpGxsgWuc",
        "outputId": "037d7c5a-32f9-4910-ab45-430ba815dbc7"
      },
      "execution_count": 5,
      "outputs": [
        {
          "output_type": "stream",
          "name": "stdout",
          "text": [
            "Requirement already satisfied: optuna in /usr/local/lib/python3.11/dist-packages (4.2.1)\n",
            "Requirement already satisfied: alembic>=1.5.0 in /usr/local/lib/python3.11/dist-packages (from optuna) (1.15.1)\n",
            "Requirement already satisfied: colorlog in /usr/local/lib/python3.11/dist-packages (from optuna) (6.9.0)\n",
            "Requirement already satisfied: numpy in /usr/local/lib/python3.11/dist-packages (from optuna) (2.0.2)\n",
            "Requirement already satisfied: packaging>=20.0 in /usr/local/lib/python3.11/dist-packages (from optuna) (24.2)\n",
            "Requirement already satisfied: sqlalchemy>=1.4.2 in /usr/local/lib/python3.11/dist-packages (from optuna) (2.0.39)\n",
            "Requirement already satisfied: tqdm in /usr/local/lib/python3.11/dist-packages (from optuna) (4.67.1)\n",
            "Requirement already satisfied: PyYAML in /usr/local/lib/python3.11/dist-packages (from optuna) (6.0.2)\n",
            "Requirement already satisfied: Mako in /usr/lib/python3/dist-packages (from alembic>=1.5.0->optuna) (1.1.3)\n",
            "Requirement already satisfied: typing-extensions>=4.12 in /usr/local/lib/python3.11/dist-packages (from alembic>=1.5.0->optuna) (4.12.2)\n",
            "Requirement already satisfied: greenlet!=0.4.17 in /usr/local/lib/python3.11/dist-packages (from sqlalchemy>=1.4.2->optuna) (3.1.1)\n"
          ]
        }
      ]
    },
    {
      "cell_type": "code",
      "source": [
        "import torch\n",
        "import torch.nn as nn\n",
        "import torch.optim as optim\n",
        "import numpy as np\n",
        "import pandas as pd\n",
        "import optuna\n",
        "from sklearn.model_selection import train_test_split\n",
        "from sklearn.preprocessing import StandardScaler\n",
        "from sklearn.metrics import r2_score\n"
      ],
      "metadata": {
        "id": "FrHd0qSCigiY"
      },
      "execution_count": 6,
      "outputs": []
    },
    {
      "cell_type": "code",
      "source": [
        "# Load\n",
        "df = pd.read_csv(\"/content/energy_iter13.csv\")"
      ],
      "metadata": {
        "id": "Bk7C2K_2il7i"
      },
      "execution_count": 7,
      "outputs": []
    },
    {
      "cell_type": "code",
      "source": [
        "target_column = \"Demand(MW)\"\n",
        "\n",
        "X = df.drop(columns=['Demand(MW)','Date','DemandGenGap(MW)']).values  # Features\n",
        "y = df['Demand(MW)'].values  # Target\n",
        "\n",
        "scaler = StandardScaler()\n",
        "X = scaler.fit_transform(X)\n",
        "\n",
        "X_train, X_test, y_train, y_test = train_test_split(X, y, test_size=0.2, random_state=42)\n",
        "\n",
        "# Convert to PyTorch tensors\n",
        "X_train_tensor = torch.tensor(X_train, dtype=torch.float32)\n",
        "y_train_tensor = torch.tensor(y_train, dtype=torch.float32).view(-1, 1)\n",
        "X_test_tensor = torch.tensor(X_test, dtype=torch.float32)\n",
        "y_test_tensor = torch.tensor(y_test, dtype=torch.float32).view(-1, 1)\n",
        "\n",
        "# Define Transformer Model\n",
        "class TransformerModel(nn.Module):\n",
        "    def __init__(self, input_dim, model_dim, num_heads, num_layers, dropout):\n",
        "        super(TransformerModel, self).__init__()\n",
        "\n",
        "        # Ensure model_dim is divisible by num_heads\n",
        "        model_dim = (model_dim // num_heads) * num_heads\n",
        "\n",
        "        self.input_layer = nn.Linear(input_dim, model_dim)\n",
        "        self.encoder_layer = nn.TransformerEncoderLayer(\n",
        "            d_model=model_dim, nhead=num_heads, dropout=dropout\n",
        "        )\n",
        "        self.transformer_encoder = nn.TransformerEncoder(self.encoder_layer, num_layers=num_layers)\n",
        "        self.output_layer = nn.Linear(model_dim, 1)\n",
        "\n",
        "    def forward(self, x):\n",
        "        x = self.input_layer(x)\n",
        "        x = self.transformer_encoder(x)\n",
        "        x = self.output_layer(x)\n",
        "        return x\n",
        "\n",
        "#Define Objective Function for Hyperparameter Tuning\n",
        "def objective(trial):\n",
        "\n",
        "    # Define hyperparameter search space\n",
        "    num_heads = trial.suggest_categorical(\"num_heads\", [2, 4, 8, 16])\n",
        "    model_dim = trial.suggest_int(\"model_dim\", 32, 256, step=num_heads)  # Ensure divisibility\n",
        "    num_layers = trial.suggest_int(\"num_layers\", 2, 6)\n",
        "    dropout = trial.suggest_float(\"dropout\", 0.1, 0.5)\n",
        "    learning_rate = trial.suggest_float(\"learning_rate\", 1e-5, 1e-3, log=True)\n",
        "\n",
        "    # Initialize model\n",
        "    model = TransformerModel(\n",
        "        input_dim=X.shape[1], model_dim=model_dim, num_heads=num_heads,\n",
        "        num_layers=num_layers, dropout=dropout\n",
        "    )\n",
        "\n",
        "    optimizer = optim.Adam(model.parameters(), lr=learning_rate)\n",
        "    criterion = nn.MSELoss()\n",
        "\n",
        "    # Training loop\n",
        "    for epoch in range(50):\n",
        "        model.train()\n",
        "        optimizer.zero_grad()\n",
        "        predictions = model(X_train_tensor)\n",
        "        loss = criterion(predictions, y_train_tensor)\n",
        "        loss.backward()\n",
        "        optimizer.step()\n",
        "\n",
        "    # Evaluation\n",
        "    model.eval()\n",
        "    with torch.no_grad():\n",
        "        predictions = model(X_test_tensor).numpy().flatten()\n",
        "\n",
        "    r2 = r2_score(y_test, predictions)\n",
        "    return r2  # We maximize R² score\n",
        "\n",
        "# Hyperparameter Optimization\n",
        "study = optuna.create_study(direction=\"maximize\")  # Maximize R²\n",
        "study.optimize(objective, n_trials=20)  # Run 20 trials\n",
        "\n",
        "# Get best hyperparameters\n",
        "best_params = study.best_params\n",
        "print(\"Best Hyperparameters:\", best_params)\n",
        "\n",
        "# Train final model with best parameters\n",
        "best_model = TransformerModel(\n",
        "    input_dim=X.shape[1], model_dim=best_params[\"model_dim\"],\n",
        "    num_heads=best_params[\"num_heads\"], num_layers=best_params[\"num_layers\"],\n",
        "    dropout=best_params[\"dropout\"]\n",
        ")\n",
        "\n",
        "optimizer = optim.Adam(best_model.parameters(), lr=best_params[\"learning_rate\"])\n",
        "criterion = nn.MSELoss()\n",
        "\n",
        "# Train Final Model\n",
        "for epoch in range(50):\n",
        "    best_model.train()\n",
        "    optimizer.zero_grad()\n",
        "    predictions = best_model(X_train_tensor)\n",
        "    loss = criterion(predictions, y_train_tensor)\n",
        "    loss.backward()\n",
        "    optimizer.step()\n",
        "\n",
        "# Evaluate Final Model\n",
        "best_model.eval()\n",
        "with torch.no_grad():\n",
        "    final_predictions = best_model(X_test_tensor).numpy().flatten()\n",
        "\n",
        "final_r2 = r2_score(y_test, final_predictions)\n",
        "print(f\"Final Model R² Score: {final_r2:.4f}\")"
      ],
      "metadata": {
        "colab": {
          "base_uri": "https://localhost:8080/"
        },
        "id": "e1oOU-5Uh2jC",
        "outputId": "f074df5e-acc5-4514-fdf0-875eaa71ff78"
      },
      "execution_count": 8,
      "outputs": [
        {
          "output_type": "stream",
          "name": "stderr",
          "text": [
            "[I 2025-03-20 21:53:17,102] A new study created in memory with name: no-name-24cfcab1-006f-46d5-ac30-e10dcde29107\n",
            "/usr/local/lib/python3.11/dist-packages/torch/nn/modules/transformer.py:385: UserWarning: enable_nested_tensor is True, but self.use_nested_tensor is False because encoder_layer.self_attn.batch_first was not True(use batch_first for better inference performance)\n",
            "  warnings.warn(\n",
            "[I 2025-03-20 21:57:23,531] Trial 0 finished with value: 0.8665233313289306 and parameters: {'num_heads': 16, 'model_dim': 240, 'num_layers': 3, 'dropout': 0.11949460335126948, 'learning_rate': 5.444892610089943e-05}. Best is trial 0 with value: 0.8665233313289306.\n",
            "/usr/local/lib/python3.11/dist-packages/torch/nn/modules/transformer.py:385: UserWarning: enable_nested_tensor is True, but self.use_nested_tensor is False because encoder_layer.self_attn.batch_first was not True(use batch_first for better inference performance)\n",
            "  warnings.warn(\n",
            "[I 2025-03-20 22:00:27,218] Trial 1 finished with value: 0.6549784446745301 and parameters: {'num_heads': 8, 'model_dim': 64, 'num_layers': 5, 'dropout': 0.46246390029752404, 'learning_rate': 2.156551679176122e-05}. Best is trial 0 with value: 0.8665233313289306.\n",
            "/usr/local/lib/python3.11/dist-packages/torch/nn/modules/transformer.py:385: UserWarning: enable_nested_tensor is True, but self.use_nested_tensor is False because encoder_layer.self_attn.batch_first was not True(use batch_first for better inference performance)\n",
            "  warnings.warn(\n",
            "[I 2025-03-20 22:02:48,708] Trial 2 finished with value: 0.877099015253712 and parameters: {'num_heads': 8, 'model_dim': 240, 'num_layers': 3, 'dropout': 0.2812264898020279, 'learning_rate': 2.3602694026180796e-05}. Best is trial 2 with value: 0.877099015253712.\n",
            "/usr/local/lib/python3.11/dist-packages/torch/nn/modules/transformer.py:385: UserWarning: enable_nested_tensor is True, but self.use_nested_tensor is False because encoder_layer.self_attn.batch_first was not True(use batch_first for better inference performance)\n",
            "  warnings.warn(\n",
            "[I 2025-03-20 22:04:43,276] Trial 3 finished with value: 0.5652374297517123 and parameters: {'num_heads': 4, 'model_dim': 240, 'num_layers': 5, 'dropout': 0.4358352192956597, 'learning_rate': 0.0001460186958343873}. Best is trial 2 with value: 0.877099015253712.\n",
            "/usr/local/lib/python3.11/dist-packages/torch/nn/modules/transformer.py:385: UserWarning: enable_nested_tensor is True, but self.use_nested_tensor is False because encoder_layer.self_attn.batch_first was not True(use batch_first for better inference performance)\n",
            "  warnings.warn(\n",
            "[I 2025-03-20 22:07:16,591] Trial 4 finished with value: -0.0412065446633898 and parameters: {'num_heads': 8, 'model_dim': 56, 'num_layers': 6, 'dropout': 0.19461044272035788, 'learning_rate': 0.0009055421663474609}. Best is trial 2 with value: 0.877099015253712.\n",
            "/usr/local/lib/python3.11/dist-packages/torch/nn/modules/transformer.py:385: UserWarning: enable_nested_tensor is True, but self.use_nested_tensor is False because encoder_layer.self_attn.batch_first was not True(use batch_first for better inference performance)\n",
            "  warnings.warn(\n",
            "[I 2025-03-20 22:08:10,497] Trial 5 finished with value: -0.017933086614274618 and parameters: {'num_heads': 4, 'model_dim': 80, 'num_layers': 4, 'dropout': 0.4632098715566778, 'learning_rate': 0.0005875051816588661}. Best is trial 2 with value: 0.877099015253712.\n",
            "/usr/local/lib/python3.11/dist-packages/torch/nn/modules/transformer.py:385: UserWarning: enable_nested_tensor is True, but self.use_nested_tensor is False because encoder_layer.self_attn.batch_first was not True(use batch_first for better inference performance)\n",
            "  warnings.warn(\n",
            "[I 2025-03-20 22:13:16,486] Trial 6 finished with value: 0.725049253270623 and parameters: {'num_heads': 16, 'model_dim': 176, 'num_layers': 5, 'dropout': 0.199352876258175, 'learning_rate': 0.00012633997995285866}. Best is trial 2 with value: 0.877099015253712.\n",
            "/usr/local/lib/python3.11/dist-packages/torch/nn/modules/transformer.py:385: UserWarning: enable_nested_tensor is True, but self.use_nested_tensor is False because encoder_layer.self_attn.batch_first was not True(use batch_first for better inference performance)\n",
            "  warnings.warn(\n",
            "[I 2025-03-20 22:14:00,730] Trial 7 finished with value: 0.8449569714121977 and parameters: {'num_heads': 2, 'model_dim': 58, 'num_layers': 5, 'dropout': 0.2443512946705115, 'learning_rate': 2.2755773092578732e-05}. Best is trial 2 with value: 0.877099015253712.\n",
            "/usr/local/lib/python3.11/dist-packages/torch/nn/modules/transformer.py:385: UserWarning: enable_nested_tensor is True, but self.use_nested_tensor is False because encoder_layer.self_attn.batch_first was not True(use batch_first for better inference performance)\n",
            "  warnings.warn(\n",
            "[I 2025-03-20 22:17:20,659] Trial 8 finished with value: 0.24969274158863797 and parameters: {'num_heads': 16, 'model_dim': 208, 'num_layers': 3, 'dropout': 0.33821731235432495, 'learning_rate': 0.0005398199309516238}. Best is trial 2 with value: 0.877099015253712.\n",
            "/usr/local/lib/python3.11/dist-packages/torch/nn/modules/transformer.py:385: UserWarning: enable_nested_tensor is True, but self.use_nested_tensor is False because encoder_layer.self_attn.batch_first was not True(use batch_first for better inference performance)\n",
            "  warnings.warn(\n",
            "[I 2025-03-20 22:19:02,426] Trial 9 finished with value: 0.8793165943599857 and parameters: {'num_heads': 16, 'model_dim': 160, 'num_layers': 2, 'dropout': 0.25296020238868105, 'learning_rate': 0.0003196002647235834}. Best is trial 9 with value: 0.8793165943599857.\n",
            "/usr/local/lib/python3.11/dist-packages/torch/nn/modules/transformer.py:385: UserWarning: enable_nested_tensor is True, but self.use_nested_tensor is False because encoder_layer.self_attn.batch_first was not True(use batch_first for better inference performance)\n",
            "  warnings.warn(\n",
            "[I 2025-03-20 22:19:26,813] Trial 10 finished with value: 0.823899396530807 and parameters: {'num_heads': 2, 'model_dim': 122, 'num_layers': 2, 'dropout': 0.34448762630462115, 'learning_rate': 0.0002614742014607611}. Best is trial 9 with value: 0.8793165943599857.\n",
            "/usr/local/lib/python3.11/dist-packages/torch/nn/modules/transformer.py:385: UserWarning: enable_nested_tensor is True, but self.use_nested_tensor is False because encoder_layer.self_attn.batch_first was not True(use batch_first for better inference performance)\n",
            "  warnings.warn(\n",
            "[I 2025-03-20 22:20:13,114] Trial 11 finished with value: 0.8086991624075186 and parameters: {'num_heads': 8, 'model_dim': 136, 'num_layers': 2, 'dropout': 0.3042080220224429, 'learning_rate': 1.1794414132007386e-05}. Best is trial 9 with value: 0.8793165943599857.\n",
            "/usr/local/lib/python3.11/dist-packages/torch/nn/modules/transformer.py:385: UserWarning: enable_nested_tensor is True, but self.use_nested_tensor is False because encoder_layer.self_attn.batch_first was not True(use batch_first for better inference performance)\n",
            "  warnings.warn(\n",
            "[I 2025-03-20 22:21:36,772] Trial 12 finished with value: 0.8670138444098024 and parameters: {'num_heads': 8, 'model_dim': 176, 'num_layers': 3, 'dropout': 0.24546967030116637, 'learning_rate': 6.0050315124360453e-05}. Best is trial 9 with value: 0.8793165943599857.\n",
            "/usr/local/lib/python3.11/dist-packages/torch/nn/modules/transformer.py:385: UserWarning: enable_nested_tensor is True, but self.use_nested_tensor is False because encoder_layer.self_attn.batch_first was not True(use batch_first for better inference performance)\n",
            "  warnings.warn(\n",
            "[I 2025-03-20 22:23:29,210] Trial 13 finished with value: 0.8331229656040731 and parameters: {'num_heads': 16, 'model_dim': 256, 'num_layers': 2, 'dropout': 0.388709163428873, 'learning_rate': 0.00024974696257777987}. Best is trial 9 with value: 0.8793165943599857.\n",
            "/usr/local/lib/python3.11/dist-packages/torch/nn/modules/transformer.py:385: UserWarning: enable_nested_tensor is True, but self.use_nested_tensor is False because encoder_layer.self_attn.batch_first was not True(use batch_first for better inference performance)\n",
            "  warnings.warn(\n",
            "[I 2025-03-20 22:26:13,322] Trial 14 finished with value: 0.8798931270375687 and parameters: {'num_heads': 16, 'model_dim': 192, 'num_layers': 3, 'dropout': 0.260268574917191, 'learning_rate': 4.9649838419045716e-05}. Best is trial 14 with value: 0.8798931270375687.\n",
            "/usr/local/lib/python3.11/dist-packages/torch/nn/modules/transformer.py:385: UserWarning: enable_nested_tensor is True, but self.use_nested_tensor is False because encoder_layer.self_attn.batch_first was not True(use batch_first for better inference performance)\n",
            "  warnings.warn(\n",
            "[I 2025-03-20 22:30:04,356] Trial 15 finished with value: 0.8814051697285555 and parameters: {'num_heads': 16, 'model_dim': 176, 'num_layers': 4, 'dropout': 0.1311298992466105, 'learning_rate': 6.342427953433506e-05}. Best is trial 15 with value: 0.8814051697285555.\n",
            "/usr/local/lib/python3.11/dist-packages/torch/nn/modules/transformer.py:385: UserWarning: enable_nested_tensor is True, but self.use_nested_tensor is False because encoder_layer.self_attn.batch_first was not True(use batch_first for better inference performance)\n",
            "  warnings.warn(\n",
            "[I 2025-03-20 22:34:09,468] Trial 16 finished with value: 0.8802535827076935 and parameters: {'num_heads': 16, 'model_dim': 208, 'num_layers': 4, 'dropout': 0.10394064575300274, 'learning_rate': 5.5508458786300736e-05}. Best is trial 15 with value: 0.8814051697285555.\n",
            "/usr/local/lib/python3.11/dist-packages/torch/nn/modules/transformer.py:385: UserWarning: enable_nested_tensor is True, but self.use_nested_tensor is False because encoder_layer.self_attn.batch_first was not True(use batch_first for better inference performance)\n",
            "  warnings.warn(\n",
            "[I 2025-03-20 22:37:46,191] Trial 17 finished with value: 0.8336072448769628 and parameters: {'num_heads': 16, 'model_dim': 112, 'num_layers': 4, 'dropout': 0.11948493593437093, 'learning_rate': 7.320347659140327e-05}. Best is trial 15 with value: 0.8814051697285555.\n",
            "/usr/local/lib/python3.11/dist-packages/torch/nn/modules/transformer.py:385: UserWarning: enable_nested_tensor is True, but self.use_nested_tensor is False because encoder_layer.self_attn.batch_first was not True(use batch_first for better inference performance)\n",
            "  warnings.warn(\n",
            "[I 2025-03-20 22:41:46,913] Trial 18 finished with value: 0.8793504602705908 and parameters: {'num_heads': 16, 'model_dim': 208, 'num_layers': 4, 'dropout': 0.15773647842045155, 'learning_rate': 3.481659026752745e-05}. Best is trial 15 with value: 0.8814051697285555.\n",
            "/usr/local/lib/python3.11/dist-packages/torch/nn/modules/transformer.py:385: UserWarning: enable_nested_tensor is True, but self.use_nested_tensor is False because encoder_layer.self_attn.batch_first was not True(use batch_first for better inference performance)\n",
            "  warnings.warn(\n",
            "[I 2025-03-20 22:43:32,876] Trial 19 finished with value: 0.7882343456534182 and parameters: {'num_heads': 2, 'model_dim': 210, 'num_layers': 6, 'dropout': 0.10061766127138425, 'learning_rate': 8.564195944681541e-05}. Best is trial 15 with value: 0.8814051697285555.\n",
            "/usr/local/lib/python3.11/dist-packages/torch/nn/modules/transformer.py:385: UserWarning: enable_nested_tensor is True, but self.use_nested_tensor is False because encoder_layer.self_attn.batch_first was not True(use batch_first for better inference performance)\n",
            "  warnings.warn(\n"
          ]
        },
        {
          "output_type": "stream",
          "name": "stdout",
          "text": [
            "Best Hyperparameters: {'num_heads': 16, 'model_dim': 176, 'num_layers': 4, 'dropout': 0.1311298992466105, 'learning_rate': 6.342427953433506e-05}\n",
            "Final Model R² Score: 0.7639\n"
          ]
        }
      ]
    }
  ]
}