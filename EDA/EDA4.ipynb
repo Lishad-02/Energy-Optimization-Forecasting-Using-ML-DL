{
  "cells": [
    {
      "cell_type": "code",
      "execution_count": 2,
      "metadata": {
        "id": "P09qc9_j5NMH"
      },
      "outputs": [],
      "source": [
        "import numpy as np\n",
        "import pandas as pd\n",
        "import matplotlib.pyplot as plt\n",
        "import seaborn as sns"
      ]
    },
    {
      "cell_type": "code",
      "execution_count": 3,
      "metadata": {
        "id": "YUc-eS2F5ujG"
      },
      "outputs": [],
      "source": [
        "df = pd.read_csv('./extracted/energy_iter9.csv')\n",
        "\n",
        "df[\"Date\"]=pd.to_datetime(df[\"Date\"])"
      ]
    },
    {
      "cell_type": "code",
      "execution_count": 4,
      "metadata": {
        "colab": {
          "base_uri": "https://localhost:8080/",
          "height": 300
        },
        "id": "HfvrDwHG9vRY",
        "outputId": "8860c9ec-b011-4a93-ec50-29de87a7fa8b"
      },
      "outputs": [
        {
          "data": {
            "text/html": [
              "<div>\n",
              "<style scoped>\n",
              "    .dataframe tbody tr th:only-of-type {\n",
              "        vertical-align: middle;\n",
              "    }\n",
              "\n",
              "    .dataframe tbody tr th {\n",
              "        vertical-align: top;\n",
              "    }\n",
              "\n",
              "    .dataframe thead th {\n",
              "        text-align: right;\n",
              "    }\n",
              "</style>\n",
              "<table border=\"1\" class=\"dataframe\">\n",
              "  <thead>\n",
              "    <tr style=\"text-align: right;\">\n",
              "      <th></th>\n",
              "      <th>Date</th>\n",
              "      <th>DayPeakGen(MW)</th>\n",
              "      <th>EveningPeakGen(MW)</th>\n",
              "      <th>MaxDemand(MW)</th>\n",
              "      <th>MaxGen(MW)</th>\n",
              "      <th>Temp(C)</th>\n",
              "      <th>Year</th>\n",
              "      <th>Month</th>\n",
              "    </tr>\n",
              "  </thead>\n",
              "  <tbody>\n",
              "    <tr>\n",
              "      <th>count</th>\n",
              "      <td>1644</td>\n",
              "      <td>1644.000000</td>\n",
              "      <td>1644.000000</td>\n",
              "      <td>1644.000000</td>\n",
              "      <td>1644.000000</td>\n",
              "      <td>1644.000000</td>\n",
              "      <td>1644.000000</td>\n",
              "      <td>1644.000000</td>\n",
              "    </tr>\n",
              "    <tr>\n",
              "      <th>mean</th>\n",
              "      <td>2022-09-11 14:00:52.554744832</td>\n",
              "      <td>12774.193431</td>\n",
              "      <td>14120.095499</td>\n",
              "      <td>12282.137470</td>\n",
              "      <td>14120.095499</td>\n",
              "      <td>27.233090</td>\n",
              "      <td>2022.167883</td>\n",
              "      <td>6.858881</td>\n",
              "    </tr>\n",
              "    <tr>\n",
              "      <th>min</th>\n",
              "      <td>2020-06-02 00:00:00</td>\n",
              "      <td>7966.000000</td>\n",
              "      <td>9482.000000</td>\n",
              "      <td>7800.000000</td>\n",
              "      <td>9482.000000</td>\n",
              "      <td>14.000000</td>\n",
              "      <td>2020.000000</td>\n",
              "      <td>1.000000</td>\n",
              "    </tr>\n",
              "    <tr>\n",
              "      <th>25%</th>\n",
              "      <td>2021-07-20 18:00:00</td>\n",
              "      <td>11818.000000</td>\n",
              "      <td>13169.750000</td>\n",
              "      <td>10600.000000</td>\n",
              "      <td>13169.750000</td>\n",
              "      <td>24.800000</td>\n",
              "      <td>2021.000000</td>\n",
              "      <td>4.000000</td>\n",
              "    </tr>\n",
              "    <tr>\n",
              "      <th>50%</th>\n",
              "      <td>2022-09-09 12:00:00</td>\n",
              "      <td>13042.000000</td>\n",
              "      <td>14440.500000</td>\n",
              "      <td>12400.000000</td>\n",
              "      <td>14440.500000</td>\n",
              "      <td>28.600000</td>\n",
              "      <td>2022.000000</td>\n",
              "      <td>7.000000</td>\n",
              "    </tr>\n",
              "    <tr>\n",
              "      <th>75%</th>\n",
              "      <td>2023-10-29 06:00:00</td>\n",
              "      <td>13925.500000</td>\n",
              "      <td>15200.250000</td>\n",
              "      <td>13900.000000</td>\n",
              "      <td>15200.250000</td>\n",
              "      <td>30.000000</td>\n",
              "      <td>2023.000000</td>\n",
              "      <td>10.000000</td>\n",
              "    </tr>\n",
              "    <tr>\n",
              "      <th>max</th>\n",
              "      <td>2024-12-31 00:00:00</td>\n",
              "      <td>16463.000000</td>\n",
              "      <td>17638.000000</td>\n",
              "      <td>17300.000000</td>\n",
              "      <td>17638.000000</td>\n",
              "      <td>33.800000</td>\n",
              "      <td>2024.000000</td>\n",
              "      <td>12.000000</td>\n",
              "    </tr>\n",
              "    <tr>\n",
              "      <th>std</th>\n",
              "      <td>NaN</td>\n",
              "      <td>1622.972287</td>\n",
              "      <td>1532.989559</td>\n",
              "      <td>1979.530122</td>\n",
              "      <td>1532.989559</td>\n",
              "      <td>3.811737</td>\n",
              "      <td>1.332597</td>\n",
              "      <td>3.405918</td>\n",
              "    </tr>\n",
              "  </tbody>\n",
              "</table>\n",
              "</div>"
            ],
            "text/plain": [
              "                                Date  DayPeakGen(MW)  EveningPeakGen(MW)  \\\n",
              "count                           1644     1644.000000         1644.000000   \n",
              "mean   2022-09-11 14:00:52.554744832    12774.193431        14120.095499   \n",
              "min              2020-06-02 00:00:00     7966.000000         9482.000000   \n",
              "25%              2021-07-20 18:00:00    11818.000000        13169.750000   \n",
              "50%              2022-09-09 12:00:00    13042.000000        14440.500000   \n",
              "75%              2023-10-29 06:00:00    13925.500000        15200.250000   \n",
              "max              2024-12-31 00:00:00    16463.000000        17638.000000   \n",
              "std                              NaN     1622.972287         1532.989559   \n",
              "\n",
              "       MaxDemand(MW)    MaxGen(MW)      Temp(C)         Year        Month  \n",
              "count    1644.000000   1644.000000  1644.000000  1644.000000  1644.000000  \n",
              "mean    12282.137470  14120.095499    27.233090  2022.167883     6.858881  \n",
              "min      7800.000000   9482.000000    14.000000  2020.000000     1.000000  \n",
              "25%     10600.000000  13169.750000    24.800000  2021.000000     4.000000  \n",
              "50%     12400.000000  14440.500000    28.600000  2022.000000     7.000000  \n",
              "75%     13900.000000  15200.250000    30.000000  2023.000000    10.000000  \n",
              "max     17300.000000  17638.000000    33.800000  2024.000000    12.000000  \n",
              "std      1979.530122   1532.989559     3.811737     1.332597     3.405918  "
            ]
          },
          "execution_count": 4,
          "metadata": {},
          "output_type": "execute_result"
        }
      ],
      "source": [
        "df.describe()"
      ]
    },
    {
      "cell_type": "markdown",
      "metadata": {
        "id": "GMKNJtffAut4"
      },
      "source": [
        "# **Remove Outliers**"
      ]
    },
    {
      "cell_type": "code",
      "execution_count": 5,
      "metadata": {
        "colab": {
          "base_uri": "https://localhost:8080/"
        },
        "id": "VuA6Yqah6Nt6",
        "outputId": "c8697d20-40f8-462a-cc86-2bba79dc44cf"
      },
      "outputs": [],
      "source": [
        "# Temperature\n",
        "Q1 = df[\"Temp(C)\"].quantile(0.25)\n",
        "Q3 = df[\"Temp(C)\"].quantile(0.75)\n",
        "IQR = Q3 - Q1\n",
        "\n",
        "lower_bound = Q1 - 1.5 * IQR\n",
        "upper_bound = Q3 + 1.5 * IQR\n",
        "\n",
        "for i in range (100):\n",
        "  outliers =(df['Temp(C)']<lower_bound) | (df['Temp(C)']>upper_bound)\n",
        "\n",
        "  if not outliers.any():\n",
        "    print(f\"break loop\")\n",
        "    break\n",
        "\n",
        "df[\"Temp(C)\"]=df['Temp(C)'].mask(outliers,df['Temp(C)'].rolling(window=10,center=True,min_periods=1).mean())"
      ]
    },
    {
      "cell_type": "code",
      "execution_count": 6,
      "metadata": {
        "colab": {
          "base_uri": "https://localhost:8080/"
        },
        "id": "E5aCTXT77zjh",
        "outputId": "3311b7a9-7b4e-4e96-c985-a56ee73492d1"
      },
      "outputs": [
        {
          "name": "stdout",
          "output_type": "stream",
          "text": [
            "Number of outliers in Temp(C): 5\n"
          ]
        }
      ],
      "source": [
        "#Temperature outlier check after removal\n",
        "\n",
        "Q1 = df[\"Temp(C)\"].quantile(0.25)\n",
        "Q3 = df[\"Temp(C)\"].quantile(0.75)\n",
        "IQR = Q3 - Q1\n",
        "\n",
        "lower_bound = Q1 - 1.5 * IQR\n",
        "upper_bound = Q3 + 1.5 * IQR\n",
        "\n",
        "# Identify outliers\n",
        "outliers = df[(df[\"Temp(C)\"] < lower_bound) | (df[\"Temp(C)\"] > upper_bound)]\n",
        "num_outliers = outliers.shape[0]\n",
        "print(f\"Number of outliers in Temp(C): {num_outliers}\")"
      ]
    },
    {
      "cell_type": "code",
      "execution_count": 8,
      "metadata": {
        "colab": {
          "base_uri": "https://localhost:8080/"
        },
        "id": "rKc5fNlq94wD",
        "outputId": "bc6b9030-3c1c-453a-f404-c0ed6deb1a8e"
      },
      "outputs": [],
      "source": [
        "# Maxgeneration\n",
        "\n",
        "Q1 = df[\"MaxGen(MW)\"].quantile(0.25)\n",
        "Q3 = df[\"MaxGen(MW)\"].quantile(0.75)\n",
        "IQR = Q3 - Q1\n",
        "\n",
        "lower_bound = Q1 - 1.5 * IQR\n",
        "upper_bound = Q3 + 1.5 * IQR\n",
        "\n",
        "for i in range (100):\n",
        "  outliers =(df['MaxGen(MW)']<lower_bound) | (df['MaxGen(MW)']>upper_bound)\n",
        "\n",
        "  if not outliers.any():\n",
        "    print(f\"break loop\")\n",
        "    break\n",
        "\n",
        "df[\"MaxGen(MW)\"]=df['MaxGen(MW)'].mask(outliers,df['MaxGen(MW)'].rolling(window=7,center=True,min_periods=1).mean())"
      ]
    },
    {
      "cell_type": "code",
      "execution_count": 9,
      "metadata": {
        "colab": {
          "base_uri": "https://localhost:8080/"
        },
        "id": "50eWoAjYBTfY",
        "outputId": "3b16266b-4956-49b0-fc5a-995dc4d845dd"
      },
      "outputs": [
        {
          "name": "stdout",
          "output_type": "stream",
          "text": [
            "Number of outliers in MaxGen(MW): 10\n"
          ]
        }
      ],
      "source": [
        "#Max Generation outlier check after removal\n",
        "\n",
        "Q1 = df[\"MaxGen(MW)\"].quantile(0.25)\n",
        "Q3 = df[\"MaxGen(MW)\"].quantile(0.75)\n",
        "IQR = Q3 - Q1\n",
        "\n",
        "\n",
        "lower_bound = Q1 - 1.5 * IQR\n",
        "upper_bound = Q3 + 1.5 * IQR\n",
        "\n",
        "# Identify outliers\n",
        "outliers = df[(df[\"MaxGen(MW)\"] < lower_bound) | (df[\"MaxGen(MW)\"] > upper_bound)]\n",
        "num_outliers = outliers.shape[0]\n",
        "print(f\"Number of outliers in MaxGen(MW): {num_outliers}\")"
      ]
    },
    {
      "cell_type": "code",
      "execution_count": 11,
      "metadata": {
        "colab": {
          "base_uri": "https://localhost:8080/"
        },
        "id": "RN9aGGAgDGkQ",
        "outputId": "2ab76028-593f-4f62-8927-5366cb6c142f"
      },
      "outputs": [],
      "source": [
        "#Day Peak Generation\n",
        "\n",
        "Q1 = df[\"DayPeakGen(MW)\"].quantile(0.25)\n",
        "Q3 = df[\"DayPeakGen(MW)\"].quantile(0.75)\n",
        "IQR = Q3 - Q1\n",
        "\n",
        "lower_bound = Q1 - 1.5 * IQR\n",
        "upper_bound = Q3 + 1.5 * IQR\n",
        "\n",
        "for i in range (100):\n",
        "  outliers =(df['DayPeakGen(MW)']<lower_bound) | (df['DayPeakGen(MW)']>upper_bound)\n",
        "\n",
        "  if not outliers.any():\n",
        "    print(f\"break loop\")\n",
        "    break\n",
        "\n",
        "df[\"DayPeakGen(MW)\"]=df['DayPeakGen(MW)'].mask(outliers,df['DayPeakGen(MW)'].rolling(window=7,center=True,min_periods=1).mean())"
      ]
    },
    {
      "cell_type": "code",
      "execution_count": 12,
      "metadata": {
        "colab": {
          "base_uri": "https://localhost:8080/"
        },
        "id": "vT14VsTSDZFi",
        "outputId": "c33bc274-c298-43dc-f26e-a38f14df3419"
      },
      "outputs": [
        {
          "name": "stdout",
          "output_type": "stream",
          "text": [
            "Number of outliers in DayPeakGen(MW): 15\n"
          ]
        }
      ],
      "source": [
        "#Day Peak Generation outlier check after removal\n",
        "\n",
        "Q1 = df[\"DayPeakGen(MW)\"].quantile(0.25)\n",
        "Q3 = df[\"DayPeakGen(MW)\"].quantile(0.75)\n",
        "IQR = Q3 - Q1\n",
        "\n",
        "\n",
        "lower_bound = Q1 - 1.5 * IQR\n",
        "upper_bound = Q3 + 1.5 * IQR\n",
        "\n",
        "# Identify outliers\n",
        "outliers = df[(df[\"DayPeakGen(MW)\"] < lower_bound) | (df[\"DayPeakGen(MW)\"] > upper_bound)]\n",
        "num_outliers = outliers.shape[0]\n",
        "print(f\"Number of outliers in DayPeakGen(MW): {num_outliers}\")"
      ]
    },
    {
      "cell_type": "code",
      "execution_count": 14,
      "metadata": {
        "colab": {
          "base_uri": "https://localhost:8080/"
        },
        "id": "o1AtIdshDpnU",
        "outputId": "c681b89f-1d87-4971-cc6c-1e579b7c8cdb"
      },
      "outputs": [],
      "source": [
        "#Evening Peak Generation\n",
        "\n",
        "Q1 = df[\"EveningPeakGen(MW)\"].quantile(0.25)\n",
        "Q3 = df[\"EveningPeakGen(MW)\"].quantile(0.75)\n",
        "IQR = Q3 - Q1\n",
        "\n",
        "lower_bound = Q1 - 1.5 * IQR\n",
        "upper_bound = Q3 + 1.5 * IQR\n",
        "\n",
        "for i in range (100):\n",
        "  outliers =(df['EveningPeakGen(MW)']<lower_bound) | (df['EveningPeakGen(MW)']>upper_bound)\n",
        "\n",
        "  if not outliers.any():\n",
        "    print(f\"break loop\")\n",
        "    break\n",
        "\n",
        "df[\"EveningPeakGen(MW)\"]=df['EveningPeakGen(MW)'].mask(outliers,df['EveningPeakGen(MW)'].rolling(window=7,center=True,min_periods=1).mean())"
      ]
    },
    {
      "cell_type": "code",
      "execution_count": 15,
      "metadata": {
        "colab": {
          "base_uri": "https://localhost:8080/"
        },
        "id": "z70O_9_rD5yE",
        "outputId": "234cef32-5ef9-49d2-947c-5ed63a87c3ac"
      },
      "outputs": [
        {
          "name": "stdout",
          "output_type": "stream",
          "text": [
            "Number of outliers EveningPeakGen(MW): 10\n"
          ]
        }
      ],
      "source": [
        "#Evening Peak Generation outlier check after removal\n",
        "\n",
        "Q1 = df[\"EveningPeakGen(MW)\"].quantile(0.25)\n",
        "Q3 = df[\"EveningPeakGen(MW)\"].quantile(0.75)\n",
        "IQR = Q3 - Q1\n",
        "\n",
        "lower_bound = Q1 - 1.5 * IQR\n",
        "upper_bound = Q3 + 1.5 * IQR\n",
        "\n",
        "\n",
        "# Identify outliers\n",
        "outliers = df[(df[\"EveningPeakGen(MW)\"] < lower_bound) | (df[\"EveningPeakGen(MW)\"] > upper_bound)]\n",
        "num_outliers = outliers.shape[0]\n",
        "print(f\"Number of outliers EveningPeakGen(MW): {num_outliers}\")"
      ]
    },
    {
      "cell_type": "code",
      "execution_count": 17,
      "metadata": {
        "colab": {
          "base_uri": "https://localhost:8080/",
          "height": 300
        },
        "id": "plc0Eus0FdiP",
        "outputId": "8f97e7f6-dd9e-4c91-e96f-5bcc522329fc"
      },
      "outputs": [
        {
          "data": {
            "text/html": [
              "<div>\n",
              "<style scoped>\n",
              "    .dataframe tbody tr th:only-of-type {\n",
              "        vertical-align: middle;\n",
              "    }\n",
              "\n",
              "    .dataframe tbody tr th {\n",
              "        vertical-align: top;\n",
              "    }\n",
              "\n",
              "    .dataframe thead th {\n",
              "        text-align: right;\n",
              "    }\n",
              "</style>\n",
              "<table border=\"1\" class=\"dataframe\">\n",
              "  <thead>\n",
              "    <tr style=\"text-align: right;\">\n",
              "      <th></th>\n",
              "      <th>Date</th>\n",
              "      <th>DayPeakGen(MW)</th>\n",
              "      <th>EveningPeakGen(MW)</th>\n",
              "      <th>MaxDemand(MW)</th>\n",
              "      <th>MaxGen(MW)</th>\n",
              "      <th>Temp(C)</th>\n",
              "      <th>Year</th>\n",
              "      <th>Month</th>\n",
              "    </tr>\n",
              "  </thead>\n",
              "  <tbody>\n",
              "    <tr>\n",
              "      <th>count</th>\n",
              "      <td>1644</td>\n",
              "      <td>1644.000000</td>\n",
              "      <td>1644.000000</td>\n",
              "      <td>1644.000000</td>\n",
              "      <td>1644.000000</td>\n",
              "      <td>1644.000000</td>\n",
              "      <td>1644.000000</td>\n",
              "      <td>1644.000000</td>\n",
              "    </tr>\n",
              "    <tr>\n",
              "      <th>mean</th>\n",
              "      <td>2022-09-11 14:00:52.554744832</td>\n",
              "      <td>12778.675443</td>\n",
              "      <td>14121.936740</td>\n",
              "      <td>12282.137470</td>\n",
              "      <td>14121.936740</td>\n",
              "      <td>27.245894</td>\n",
              "      <td>2022.167883</td>\n",
              "      <td>6.858881</td>\n",
              "    </tr>\n",
              "    <tr>\n",
              "      <th>min</th>\n",
              "      <td>2020-06-02 00:00:00</td>\n",
              "      <td>8276.285714</td>\n",
              "      <td>9722.142857</td>\n",
              "      <td>7800.000000</td>\n",
              "      <td>9722.142857</td>\n",
              "      <td>16.410000</td>\n",
              "      <td>2020.000000</td>\n",
              "      <td>1.000000</td>\n",
              "    </tr>\n",
              "    <tr>\n",
              "      <th>25%</th>\n",
              "      <td>2021-07-20 18:00:00</td>\n",
              "      <td>11818.000000</td>\n",
              "      <td>13169.750000</td>\n",
              "      <td>10600.000000</td>\n",
              "      <td>13169.750000</td>\n",
              "      <td>24.800000</td>\n",
              "      <td>2021.000000</td>\n",
              "      <td>4.000000</td>\n",
              "    </tr>\n",
              "    <tr>\n",
              "      <th>50%</th>\n",
              "      <td>2022-09-09 12:00:00</td>\n",
              "      <td>13042.000000</td>\n",
              "      <td>14440.500000</td>\n",
              "      <td>12400.000000</td>\n",
              "      <td>14440.500000</td>\n",
              "      <td>28.600000</td>\n",
              "      <td>2022.000000</td>\n",
              "      <td>7.000000</td>\n",
              "    </tr>\n",
              "    <tr>\n",
              "      <th>75%</th>\n",
              "      <td>2023-10-29 06:00:00</td>\n",
              "      <td>13925.500000</td>\n",
              "      <td>15200.250000</td>\n",
              "      <td>13900.000000</td>\n",
              "      <td>15200.250000</td>\n",
              "      <td>30.000000</td>\n",
              "      <td>2023.000000</td>\n",
              "      <td>10.000000</td>\n",
              "    </tr>\n",
              "    <tr>\n",
              "      <th>max</th>\n",
              "      <td>2024-12-31 00:00:00</td>\n",
              "      <td>16463.000000</td>\n",
              "      <td>17638.000000</td>\n",
              "      <td>17300.000000</td>\n",
              "      <td>17638.000000</td>\n",
              "      <td>33.800000</td>\n",
              "      <td>2024.000000</td>\n",
              "      <td>12.000000</td>\n",
              "    </tr>\n",
              "    <tr>\n",
              "      <th>std</th>\n",
              "      <td>NaN</td>\n",
              "      <td>1611.517488</td>\n",
              "      <td>1528.055271</td>\n",
              "      <td>1979.530122</td>\n",
              "      <td>1528.055271</td>\n",
              "      <td>3.776365</td>\n",
              "      <td>1.332597</td>\n",
              "      <td>3.405918</td>\n",
              "    </tr>\n",
              "  </tbody>\n",
              "</table>\n",
              "</div>"
            ],
            "text/plain": [
              "                                Date  DayPeakGen(MW)  EveningPeakGen(MW)  \\\n",
              "count                           1644     1644.000000         1644.000000   \n",
              "mean   2022-09-11 14:00:52.554744832    12778.675443        14121.936740   \n",
              "min              2020-06-02 00:00:00     8276.285714         9722.142857   \n",
              "25%              2021-07-20 18:00:00    11818.000000        13169.750000   \n",
              "50%              2022-09-09 12:00:00    13042.000000        14440.500000   \n",
              "75%              2023-10-29 06:00:00    13925.500000        15200.250000   \n",
              "max              2024-12-31 00:00:00    16463.000000        17638.000000   \n",
              "std                              NaN     1611.517488         1528.055271   \n",
              "\n",
              "       MaxDemand(MW)    MaxGen(MW)      Temp(C)         Year        Month  \n",
              "count    1644.000000   1644.000000  1644.000000  1644.000000  1644.000000  \n",
              "mean    12282.137470  14121.936740    27.245894  2022.167883     6.858881  \n",
              "min      7800.000000   9722.142857    16.410000  2020.000000     1.000000  \n",
              "25%     10600.000000  13169.750000    24.800000  2021.000000     4.000000  \n",
              "50%     12400.000000  14440.500000    28.600000  2022.000000     7.000000  \n",
              "75%     13900.000000  15200.250000    30.000000  2023.000000    10.000000  \n",
              "max     17300.000000  17638.000000    33.800000  2024.000000    12.000000  \n",
              "std      1979.530122   1528.055271     3.776365     1.332597     3.405918  "
            ]
          },
          "execution_count": 17,
          "metadata": {},
          "output_type": "execute_result"
        }
      ],
      "source": [
        "df.describe()"
      ]
    },
    {
      "cell_type": "markdown",
      "metadata": {
        "id": "LzXusQbWGBqM"
      },
      "source": [
        "# **Encdoing**"
      ]
    },
    {
      "cell_type": "code",
      "execution_count": 18,
      "metadata": {
        "id": "ys34z3jbPlCw"
      },
      "outputs": [],
      "source": [
        "#Season\n",
        "#Label Encoding(Binary)\n",
        "df['Season']=df['Season'].map({'highTempSeason':1,'lowTempSeason':0})"
      ]
    },
    {
      "cell_type": "code",
      "execution_count": 19,
      "metadata": {
        "id": "f_NwhxnXQ_Ie"
      },
      "outputs": [],
      "source": [
        "#IsHoliday\n",
        "#Label Encoding(Binary)\n",
        "df['IsHoliday']=df['IsHoliday'].map({'Yes':1,'No':0})"
      ]
    },
    {
      "cell_type": "code",
      "execution_count": 20,
      "metadata": {
        "colab": {
          "base_uri": "https://localhost:8080/",
          "height": 206
        },
        "id": "y6TSzLkHQp5Q",
        "outputId": "37ca172a-7154-460d-cb5e-97b560351e71"
      },
      "outputs": [
        {
          "data": {
            "text/html": [
              "<div>\n",
              "<style scoped>\n",
              "    .dataframe tbody tr th:only-of-type {\n",
              "        vertical-align: middle;\n",
              "    }\n",
              "\n",
              "    .dataframe tbody tr th {\n",
              "        vertical-align: top;\n",
              "    }\n",
              "\n",
              "    .dataframe thead th {\n",
              "        text-align: right;\n",
              "    }\n",
              "</style>\n",
              "<table border=\"1\" class=\"dataframe\">\n",
              "  <thead>\n",
              "    <tr style=\"text-align: right;\">\n",
              "      <th></th>\n",
              "      <th>Date</th>\n",
              "      <th>DayPeakGen(MW)</th>\n",
              "      <th>EveningPeakGen(MW)</th>\n",
              "      <th>MaxDemand(MW)</th>\n",
              "      <th>MaxGen(MW)</th>\n",
              "      <th>Temp(C)</th>\n",
              "      <th>Year</th>\n",
              "      <th>Month</th>\n",
              "      <th>Season</th>\n",
              "      <th>IsHoliday</th>\n",
              "    </tr>\n",
              "  </thead>\n",
              "  <tbody>\n",
              "    <tr>\n",
              "      <th>1639</th>\n",
              "      <td>2020-06-06</td>\n",
              "      <td>12613.0</td>\n",
              "      <td>15053.0</td>\n",
              "      <td>10800</td>\n",
              "      <td>15053.0</td>\n",
              "      <td>28.8</td>\n",
              "      <td>2020</td>\n",
              "      <td>6</td>\n",
              "      <td>1</td>\n",
              "      <td>0</td>\n",
              "    </tr>\n",
              "    <tr>\n",
              "      <th>1640</th>\n",
              "      <td>2020-06-05</td>\n",
              "      <td>12511.0</td>\n",
              "      <td>15065.0</td>\n",
              "      <td>9000</td>\n",
              "      <td>15065.0</td>\n",
              "      <td>28.3</td>\n",
              "      <td>2020</td>\n",
              "      <td>6</td>\n",
              "      <td>1</td>\n",
              "      <td>1</td>\n",
              "    </tr>\n",
              "    <tr>\n",
              "      <th>1641</th>\n",
              "      <td>2020-06-04</td>\n",
              "      <td>12390.0</td>\n",
              "      <td>15053.0</td>\n",
              "      <td>11000</td>\n",
              "      <td>15053.0</td>\n",
              "      <td>27.6</td>\n",
              "      <td>2020</td>\n",
              "      <td>6</td>\n",
              "      <td>1</td>\n",
              "      <td>0</td>\n",
              "    </tr>\n",
              "    <tr>\n",
              "      <th>1642</th>\n",
              "      <td>2020-06-03</td>\n",
              "      <td>12258.0</td>\n",
              "      <td>14747.0</td>\n",
              "      <td>11000</td>\n",
              "      <td>14747.0</td>\n",
              "      <td>28.9</td>\n",
              "      <td>2020</td>\n",
              "      <td>6</td>\n",
              "      <td>1</td>\n",
              "      <td>0</td>\n",
              "    </tr>\n",
              "    <tr>\n",
              "      <th>1643</th>\n",
              "      <td>2020-06-02</td>\n",
              "      <td>11700.0</td>\n",
              "      <td>14765.0</td>\n",
              "      <td>11000</td>\n",
              "      <td>14765.0</td>\n",
              "      <td>29.5</td>\n",
              "      <td>2020</td>\n",
              "      <td>6</td>\n",
              "      <td>1</td>\n",
              "      <td>0</td>\n",
              "    </tr>\n",
              "  </tbody>\n",
              "</table>\n",
              "</div>"
            ],
            "text/plain": [
              "           Date  DayPeakGen(MW)  EveningPeakGen(MW)  MaxDemand(MW)  \\\n",
              "1639 2020-06-06         12613.0             15053.0          10800   \n",
              "1640 2020-06-05         12511.0             15065.0           9000   \n",
              "1641 2020-06-04         12390.0             15053.0          11000   \n",
              "1642 2020-06-03         12258.0             14747.0          11000   \n",
              "1643 2020-06-02         11700.0             14765.0          11000   \n",
              "\n",
              "      MaxGen(MW)  Temp(C)  Year  Month  Season  IsHoliday  \n",
              "1639     15053.0     28.8  2020      6       1          0  \n",
              "1640     15065.0     28.3  2020      6       1          1  \n",
              "1641     15053.0     27.6  2020      6       1          0  \n",
              "1642     14747.0     28.9  2020      6       1          0  \n",
              "1643     14765.0     29.5  2020      6       1          0  "
            ]
          },
          "execution_count": 20,
          "metadata": {},
          "output_type": "execute_result"
        }
      ],
      "source": [
        "df.tail()"
      ]
    },
    {
      "cell_type": "code",
      "execution_count": 21,
      "metadata": {
        "colab": {
          "base_uri": "https://localhost:8080/"
        },
        "id": "nOjI1TeIRam2",
        "outputId": "a1e188bf-f23e-4e41-e869-02aad05ff725"
      },
      "outputs": [
        {
          "name": "stdout",
          "output_type": "stream",
          "text": [
            "saved with clean data\n"
          ]
        }
      ],
      "source": [
        "#save dataset\n",
        "df.to_csv('./extracted/energy_iter10.csv',index=False)\n",
        "print(\"saved with clean data\")"
      ]
    }
  ],
  "metadata": {
    "colab": {
      "provenance": []
    },
    "kernelspec": {
      "display_name": "Python 3",
      "name": "python3"
    },
    "language_info": {
      "codemirror_mode": {
        "name": "ipython",
        "version": 3
      },
      "file_extension": ".py",
      "mimetype": "text/x-python",
      "name": "python",
      "nbconvert_exporter": "python",
      "pygments_lexer": "ipython3",
      "version": "3.13.1"
    }
  },
  "nbformat": 4,
  "nbformat_minor": 0
}
