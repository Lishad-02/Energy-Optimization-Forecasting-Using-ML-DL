{
  "nbformat": 4,
  "nbformat_minor": 0,
  "metadata": {
    "colab": {
      "provenance": []
    },
    "kernelspec": {
      "name": "python3",
      "display_name": "Python 3"
    },
    "language_info": {
      "name": "python"
    }
  },
  "cells": [
    {
      "cell_type": "code",
      "execution_count": 283,
      "metadata": {
        "id": "ubv3uGD2_HO_"
      },
      "outputs": [],
      "source": [
        "import numpy as np\n",
        "import pandas as pd"
      ]
    },
    {
      "cell_type": "code",
      "source": [
        "from google.colab import drive\n",
        "drive.mount('/content/drive')"
      ],
      "metadata": {
        "colab": {
          "base_uri": "https://localhost:8080/"
        },
        "id": "i4QxCfmP_KzZ",
        "outputId": "97b7855b-9b4c-46bc-bf1d-353f38cc431c"
      },
      "execution_count": 284,
      "outputs": [
        {
          "output_type": "stream",
          "name": "stdout",
          "text": [
            "Drive already mounted at /content/drive; to attempt to forcibly remount, call drive.mount(\"/content/drive\", force_remount=True).\n"
          ]
        }
      ]
    },
    {
      "cell_type": "code",
      "source": [
        "df = pd.read_csv('/content/energy_iter11.csv')"
      ],
      "metadata": {
        "id": "bzuVeRN1_Lfw"
      },
      "execution_count": 285,
      "outputs": []
    },
    {
      "cell_type": "code",
      "source": [
        "df.describe()"
      ],
      "metadata": {
        "colab": {
          "base_uri": "https://localhost:8080/",
          "height": 300
        },
        "id": "8xhT5GM7_PEv",
        "outputId": "f5526753-4187-462a-c912-55050f99b6bd"
      },
      "execution_count": 286,
      "outputs": [
        {
          "output_type": "execute_result",
          "data": {
            "text/plain": [
              "         Demand(MW)  Generation(MW)      Temp(C)         Year        Month  \\\n",
              "count   1636.000000     1636.000000  1636.000000  1636.000000  1636.000000   \n",
              "mean   12290.974328    14130.438875    27.262592  2022.163203     6.863081   \n",
              "std     1977.969132     1526.740541     3.787678     1.333048     3.394665   \n",
              "min     7800.000000     9482.000000    14.000000  2020.000000     1.000000   \n",
              "25%    10700.000000    13182.000000    25.000000  2021.000000     4.000000   \n",
              "50%    12400.000000    14448.000000    28.600000  2022.000000     7.000000   \n",
              "75%    13900.000000    15202.000000    30.025000  2023.000000    10.000000   \n",
              "max    17300.000000    17638.000000    33.800000  2024.000000    12.000000   \n",
              "\n",
              "            Season    IsHoliday  DemandGenGap(MW)  \n",
              "count  1636.000000  1636.000000       1636.000000  \n",
              "mean      0.678484     0.146699       1839.464548  \n",
              "std       0.467201     0.353914       1580.169160  \n",
              "min       0.000000     0.000000      -2435.000000  \n",
              "25%       0.000000     0.000000        626.000000  \n",
              "50%       1.000000     0.000000       1772.000000  \n",
              "75%       1.000000     0.000000       3017.250000  \n",
              "max       1.000000     1.000000       6587.000000  "
            ],
            "text/html": [
              "\n",
              "  <div id=\"df-0e1b8e64-c334-451e-a1f9-10b93ac037c5\" class=\"colab-df-container\">\n",
              "    <div>\n",
              "<style scoped>\n",
              "    .dataframe tbody tr th:only-of-type {\n",
              "        vertical-align: middle;\n",
              "    }\n",
              "\n",
              "    .dataframe tbody tr th {\n",
              "        vertical-align: top;\n",
              "    }\n",
              "\n",
              "    .dataframe thead th {\n",
              "        text-align: right;\n",
              "    }\n",
              "</style>\n",
              "<table border=\"1\" class=\"dataframe\">\n",
              "  <thead>\n",
              "    <tr style=\"text-align: right;\">\n",
              "      <th></th>\n",
              "      <th>Demand(MW)</th>\n",
              "      <th>Generation(MW)</th>\n",
              "      <th>Temp(C)</th>\n",
              "      <th>Year</th>\n",
              "      <th>Month</th>\n",
              "      <th>Season</th>\n",
              "      <th>IsHoliday</th>\n",
              "      <th>DemandGenGap(MW)</th>\n",
              "    </tr>\n",
              "  </thead>\n",
              "  <tbody>\n",
              "    <tr>\n",
              "      <th>count</th>\n",
              "      <td>1636.000000</td>\n",
              "      <td>1636.000000</td>\n",
              "      <td>1636.000000</td>\n",
              "      <td>1636.000000</td>\n",
              "      <td>1636.000000</td>\n",
              "      <td>1636.000000</td>\n",
              "      <td>1636.000000</td>\n",
              "      <td>1636.000000</td>\n",
              "    </tr>\n",
              "    <tr>\n",
              "      <th>mean</th>\n",
              "      <td>12290.974328</td>\n",
              "      <td>14130.438875</td>\n",
              "      <td>27.262592</td>\n",
              "      <td>2022.163203</td>\n",
              "      <td>6.863081</td>\n",
              "      <td>0.678484</td>\n",
              "      <td>0.146699</td>\n",
              "      <td>1839.464548</td>\n",
              "    </tr>\n",
              "    <tr>\n",
              "      <th>std</th>\n",
              "      <td>1977.969132</td>\n",
              "      <td>1526.740541</td>\n",
              "      <td>3.787678</td>\n",
              "      <td>1.333048</td>\n",
              "      <td>3.394665</td>\n",
              "      <td>0.467201</td>\n",
              "      <td>0.353914</td>\n",
              "      <td>1580.169160</td>\n",
              "    </tr>\n",
              "    <tr>\n",
              "      <th>min</th>\n",
              "      <td>7800.000000</td>\n",
              "      <td>9482.000000</td>\n",
              "      <td>14.000000</td>\n",
              "      <td>2020.000000</td>\n",
              "      <td>1.000000</td>\n",
              "      <td>0.000000</td>\n",
              "      <td>0.000000</td>\n",
              "      <td>-2435.000000</td>\n",
              "    </tr>\n",
              "    <tr>\n",
              "      <th>25%</th>\n",
              "      <td>10700.000000</td>\n",
              "      <td>13182.000000</td>\n",
              "      <td>25.000000</td>\n",
              "      <td>2021.000000</td>\n",
              "      <td>4.000000</td>\n",
              "      <td>0.000000</td>\n",
              "      <td>0.000000</td>\n",
              "      <td>626.000000</td>\n",
              "    </tr>\n",
              "    <tr>\n",
              "      <th>50%</th>\n",
              "      <td>12400.000000</td>\n",
              "      <td>14448.000000</td>\n",
              "      <td>28.600000</td>\n",
              "      <td>2022.000000</td>\n",
              "      <td>7.000000</td>\n",
              "      <td>1.000000</td>\n",
              "      <td>0.000000</td>\n",
              "      <td>1772.000000</td>\n",
              "    </tr>\n",
              "    <tr>\n",
              "      <th>75%</th>\n",
              "      <td>13900.000000</td>\n",
              "      <td>15202.000000</td>\n",
              "      <td>30.025000</td>\n",
              "      <td>2023.000000</td>\n",
              "      <td>10.000000</td>\n",
              "      <td>1.000000</td>\n",
              "      <td>0.000000</td>\n",
              "      <td>3017.250000</td>\n",
              "    </tr>\n",
              "    <tr>\n",
              "      <th>max</th>\n",
              "      <td>17300.000000</td>\n",
              "      <td>17638.000000</td>\n",
              "      <td>33.800000</td>\n",
              "      <td>2024.000000</td>\n",
              "      <td>12.000000</td>\n",
              "      <td>1.000000</td>\n",
              "      <td>1.000000</td>\n",
              "      <td>6587.000000</td>\n",
              "    </tr>\n",
              "  </tbody>\n",
              "</table>\n",
              "</div>\n",
              "    <div class=\"colab-df-buttons\">\n",
              "\n",
              "  <div class=\"colab-df-container\">\n",
              "    <button class=\"colab-df-convert\" onclick=\"convertToInteractive('df-0e1b8e64-c334-451e-a1f9-10b93ac037c5')\"\n",
              "            title=\"Convert this dataframe to an interactive table.\"\n",
              "            style=\"display:none;\">\n",
              "\n",
              "  <svg xmlns=\"http://www.w3.org/2000/svg\" height=\"24px\" viewBox=\"0 -960 960 960\">\n",
              "    <path d=\"M120-120v-720h720v720H120Zm60-500h600v-160H180v160Zm220 220h160v-160H400v160Zm0 220h160v-160H400v160ZM180-400h160v-160H180v160Zm440 0h160v-160H620v160ZM180-180h160v-160H180v160Zm440 0h160v-160H620v160Z\"/>\n",
              "  </svg>\n",
              "    </button>\n",
              "\n",
              "  <style>\n",
              "    .colab-df-container {\n",
              "      display:flex;\n",
              "      gap: 12px;\n",
              "    }\n",
              "\n",
              "    .colab-df-convert {\n",
              "      background-color: #E8F0FE;\n",
              "      border: none;\n",
              "      border-radius: 50%;\n",
              "      cursor: pointer;\n",
              "      display: none;\n",
              "      fill: #1967D2;\n",
              "      height: 32px;\n",
              "      padding: 0 0 0 0;\n",
              "      width: 32px;\n",
              "    }\n",
              "\n",
              "    .colab-df-convert:hover {\n",
              "      background-color: #E2EBFA;\n",
              "      box-shadow: 0px 1px 2px rgba(60, 64, 67, 0.3), 0px 1px 3px 1px rgba(60, 64, 67, 0.15);\n",
              "      fill: #174EA6;\n",
              "    }\n",
              "\n",
              "    .colab-df-buttons div {\n",
              "      margin-bottom: 4px;\n",
              "    }\n",
              "\n",
              "    [theme=dark] .colab-df-convert {\n",
              "      background-color: #3B4455;\n",
              "      fill: #D2E3FC;\n",
              "    }\n",
              "\n",
              "    [theme=dark] .colab-df-convert:hover {\n",
              "      background-color: #434B5C;\n",
              "      box-shadow: 0px 1px 3px 1px rgba(0, 0, 0, 0.15);\n",
              "      filter: drop-shadow(0px 1px 2px rgba(0, 0, 0, 0.3));\n",
              "      fill: #FFFFFF;\n",
              "    }\n",
              "  </style>\n",
              "\n",
              "    <script>\n",
              "      const buttonEl =\n",
              "        document.querySelector('#df-0e1b8e64-c334-451e-a1f9-10b93ac037c5 button.colab-df-convert');\n",
              "      buttonEl.style.display =\n",
              "        google.colab.kernel.accessAllowed ? 'block' : 'none';\n",
              "\n",
              "      async function convertToInteractive(key) {\n",
              "        const element = document.querySelector('#df-0e1b8e64-c334-451e-a1f9-10b93ac037c5');\n",
              "        const dataTable =\n",
              "          await google.colab.kernel.invokeFunction('convertToInteractive',\n",
              "                                                    [key], {});\n",
              "        if (!dataTable) return;\n",
              "\n",
              "        const docLinkHtml = 'Like what you see? Visit the ' +\n",
              "          '<a target=\"_blank\" href=https://colab.research.google.com/notebooks/data_table.ipynb>data table notebook</a>'\n",
              "          + ' to learn more about interactive tables.';\n",
              "        element.innerHTML = '';\n",
              "        dataTable['output_type'] = 'display_data';\n",
              "        await google.colab.output.renderOutput(dataTable, element);\n",
              "        const docLink = document.createElement('div');\n",
              "        docLink.innerHTML = docLinkHtml;\n",
              "        element.appendChild(docLink);\n",
              "      }\n",
              "    </script>\n",
              "  </div>\n",
              "\n",
              "\n",
              "<div id=\"df-5ec1dec4-dd19-49ad-98e8-b7a3335b7a2a\">\n",
              "  <button class=\"colab-df-quickchart\" onclick=\"quickchart('df-5ec1dec4-dd19-49ad-98e8-b7a3335b7a2a')\"\n",
              "            title=\"Suggest charts\"\n",
              "            style=\"display:none;\">\n",
              "\n",
              "<svg xmlns=\"http://www.w3.org/2000/svg\" height=\"24px\"viewBox=\"0 0 24 24\"\n",
              "     width=\"24px\">\n",
              "    <g>\n",
              "        <path d=\"M19 3H5c-1.1 0-2 .9-2 2v14c0 1.1.9 2 2 2h14c1.1 0 2-.9 2-2V5c0-1.1-.9-2-2-2zM9 17H7v-7h2v7zm4 0h-2V7h2v10zm4 0h-2v-4h2v4z\"/>\n",
              "    </g>\n",
              "</svg>\n",
              "  </button>\n",
              "\n",
              "<style>\n",
              "  .colab-df-quickchart {\n",
              "      --bg-color: #E8F0FE;\n",
              "      --fill-color: #1967D2;\n",
              "      --hover-bg-color: #E2EBFA;\n",
              "      --hover-fill-color: #174EA6;\n",
              "      --disabled-fill-color: #AAA;\n",
              "      --disabled-bg-color: #DDD;\n",
              "  }\n",
              "\n",
              "  [theme=dark] .colab-df-quickchart {\n",
              "      --bg-color: #3B4455;\n",
              "      --fill-color: #D2E3FC;\n",
              "      --hover-bg-color: #434B5C;\n",
              "      --hover-fill-color: #FFFFFF;\n",
              "      --disabled-bg-color: #3B4455;\n",
              "      --disabled-fill-color: #666;\n",
              "  }\n",
              "\n",
              "  .colab-df-quickchart {\n",
              "    background-color: var(--bg-color);\n",
              "    border: none;\n",
              "    border-radius: 50%;\n",
              "    cursor: pointer;\n",
              "    display: none;\n",
              "    fill: var(--fill-color);\n",
              "    height: 32px;\n",
              "    padding: 0;\n",
              "    width: 32px;\n",
              "  }\n",
              "\n",
              "  .colab-df-quickchart:hover {\n",
              "    background-color: var(--hover-bg-color);\n",
              "    box-shadow: 0 1px 2px rgba(60, 64, 67, 0.3), 0 1px 3px 1px rgba(60, 64, 67, 0.15);\n",
              "    fill: var(--button-hover-fill-color);\n",
              "  }\n",
              "\n",
              "  .colab-df-quickchart-complete:disabled,\n",
              "  .colab-df-quickchart-complete:disabled:hover {\n",
              "    background-color: var(--disabled-bg-color);\n",
              "    fill: var(--disabled-fill-color);\n",
              "    box-shadow: none;\n",
              "  }\n",
              "\n",
              "  .colab-df-spinner {\n",
              "    border: 2px solid var(--fill-color);\n",
              "    border-color: transparent;\n",
              "    border-bottom-color: var(--fill-color);\n",
              "    animation:\n",
              "      spin 1s steps(1) infinite;\n",
              "  }\n",
              "\n",
              "  @keyframes spin {\n",
              "    0% {\n",
              "      border-color: transparent;\n",
              "      border-bottom-color: var(--fill-color);\n",
              "      border-left-color: var(--fill-color);\n",
              "    }\n",
              "    20% {\n",
              "      border-color: transparent;\n",
              "      border-left-color: var(--fill-color);\n",
              "      border-top-color: var(--fill-color);\n",
              "    }\n",
              "    30% {\n",
              "      border-color: transparent;\n",
              "      border-left-color: var(--fill-color);\n",
              "      border-top-color: var(--fill-color);\n",
              "      border-right-color: var(--fill-color);\n",
              "    }\n",
              "    40% {\n",
              "      border-color: transparent;\n",
              "      border-right-color: var(--fill-color);\n",
              "      border-top-color: var(--fill-color);\n",
              "    }\n",
              "    60% {\n",
              "      border-color: transparent;\n",
              "      border-right-color: var(--fill-color);\n",
              "    }\n",
              "    80% {\n",
              "      border-color: transparent;\n",
              "      border-right-color: var(--fill-color);\n",
              "      border-bottom-color: var(--fill-color);\n",
              "    }\n",
              "    90% {\n",
              "      border-color: transparent;\n",
              "      border-bottom-color: var(--fill-color);\n",
              "    }\n",
              "  }\n",
              "</style>\n",
              "\n",
              "  <script>\n",
              "    async function quickchart(key) {\n",
              "      const quickchartButtonEl =\n",
              "        document.querySelector('#' + key + ' button');\n",
              "      quickchartButtonEl.disabled = true;  // To prevent multiple clicks.\n",
              "      quickchartButtonEl.classList.add('colab-df-spinner');\n",
              "      try {\n",
              "        const charts = await google.colab.kernel.invokeFunction(\n",
              "            'suggestCharts', [key], {});\n",
              "      } catch (error) {\n",
              "        console.error('Error during call to suggestCharts:', error);\n",
              "      }\n",
              "      quickchartButtonEl.classList.remove('colab-df-spinner');\n",
              "      quickchartButtonEl.classList.add('colab-df-quickchart-complete');\n",
              "    }\n",
              "    (() => {\n",
              "      let quickchartButtonEl =\n",
              "        document.querySelector('#df-5ec1dec4-dd19-49ad-98e8-b7a3335b7a2a button');\n",
              "      quickchartButtonEl.style.display =\n",
              "        google.colab.kernel.accessAllowed ? 'block' : 'none';\n",
              "    })();\n",
              "  </script>\n",
              "</div>\n",
              "\n",
              "    </div>\n",
              "  </div>\n"
            ],
            "application/vnd.google.colaboratory.intrinsic+json": {
              "type": "dataframe",
              "summary": "{\n  \"name\": \"df\",\n  \"rows\": 8,\n  \"fields\": [\n    {\n      \"column\": \"Demand(MW)\",\n      \"properties\": {\n        \"dtype\": \"number\",\n        \"std\": 5588.898528054649,\n        \"min\": 1636.0,\n        \"max\": 17300.0,\n        \"num_unique_values\": 8,\n        \"samples\": [\n          12290.974327628363,\n          12400.0,\n          1636.0\n        ],\n        \"semantic_type\": \"\",\n        \"description\": \"\"\n      }\n    },\n    {\n      \"column\": \"Generation(MW)\",\n      \"properties\": {\n        \"dtype\": \"number\",\n        \"std\": 6185.577338320473,\n        \"min\": 1526.7405413707822,\n        \"max\": 17638.0,\n        \"num_unique_values\": 8,\n        \"samples\": [\n          14130.438875305623,\n          14448.0,\n          1636.0\n        ],\n        \"semantic_type\": \"\",\n        \"description\": \"\"\n      }\n    },\n    {\n      \"column\": \"Temp(C)\",\n      \"properties\": {\n        \"dtype\": \"number\",\n        \"std\": 570.2909450741379,\n        \"min\": 3.787677639781833,\n        \"max\": 1636.0,\n        \"num_unique_values\": 8,\n        \"samples\": [\n          27.262591687041564,\n          28.6,\n          1636.0\n        ],\n        \"semantic_type\": \"\",\n        \"description\": \"\"\n      }\n    },\n    {\n      \"column\": \"Year\",\n      \"properties\": {\n        \"dtype\": \"number\",\n        \"std\": 707.9339576868339,\n        \"min\": 1.3330484749132032,\n        \"max\": 2024.0,\n        \"num_unique_values\": 8,\n        \"samples\": [\n          2022.1632029339853,\n          2022.0,\n          1636.0\n        ],\n        \"semantic_type\": \"\",\n        \"description\": \"\"\n      }\n    },\n    {\n      \"column\": \"Month\",\n      \"properties\": {\n        \"dtype\": \"number\",\n        \"std\": 576.1890022512767,\n        \"min\": 1.0,\n        \"max\": 1636.0,\n        \"num_unique_values\": 8,\n        \"samples\": [\n          6.863080684596577,\n          7.0,\n          1636.0\n        ],\n        \"semantic_type\": \"\",\n        \"description\": \"\"\n      }\n    },\n    {\n      \"column\": \"Season\",\n      \"properties\": {\n        \"dtype\": \"number\",\n        \"std\": 578.2041094185744,\n        \"min\": 0.0,\n        \"max\": 1636.0,\n        \"num_unique_values\": 5,\n        \"samples\": [\n          0.6784841075794621,\n          1.0,\n          0.46720107490843543\n        ],\n        \"semantic_type\": \"\",\n        \"description\": \"\"\n      }\n    },\n    {\n      \"column\": \"IsHoliday\",\n      \"properties\": {\n        \"dtype\": \"number\",\n        \"std\": 578.3376564961312,\n        \"min\": 0.0,\n        \"max\": 1636.0,\n        \"num_unique_values\": 5,\n        \"samples\": [\n          0.1466992665036675,\n          1.0,\n          0.35391404823876155\n        ],\n        \"semantic_type\": \"\",\n        \"description\": \"\"\n      }\n    },\n    {\n      \"column\": \"DemandGenGap(MW)\",\n      \"properties\": {\n        \"dtype\": \"number\",\n        \"std\": 2500.9118613596847,\n        \"min\": -2435.0,\n        \"max\": 6587.0,\n        \"num_unique_values\": 8,\n        \"samples\": [\n          1839.4645476772616,\n          1772.0,\n          1636.0\n        ],\n        \"semantic_type\": \"\",\n        \"description\": \"\"\n      }\n    }\n  ]\n}"
            }
          },
          "metadata": {},
          "execution_count": 286
        }
      ]
    },
    {
      "cell_type": "markdown",
      "source": [
        "# **Outlier Removal Using Z-Score**"
      ],
      "metadata": {
        "id": "PJMTz4Xu_urP"
      }
    },
    {
      "cell_type": "code",
      "source": [
        "# Identify Outliers for temperature using  z score\n",
        "\n",
        "\n",
        "#As our data is more skewed so its better to use log transformation\n",
        "df['Temp_Log']=np.log(df['Temp(C)']+1)\n",
        "df['Z_Score']=(df['Temp_Log']-df['Temp_Log'].mean())/df['Temp_Log'].std()\n",
        "\n",
        "#define a common threshold value 3\n",
        "z_threshold=3\n",
        "\n",
        "#identify outliers\n",
        "outliers= df[np.abs(df['Z_Score'])>z_threshold]\n",
        "print('No Of outliers present:',len(outliers))\n",
        "print(outliers[['Temp(C)','Temp_Log','Z_Score']])\n",
        "\n",
        "\n"
      ],
      "metadata": {
        "colab": {
          "base_uri": "https://localhost:8080/"
        },
        "id": "sEp7GewfBcMn",
        "outputId": "6d5abca3-f757-430e-ff9c-5c9018b54245"
      },
      "execution_count": 287,
      "outputs": [
        {
          "output_type": "stream",
          "name": "stdout",
          "text": [
            "No Of outliers present: 17\n",
            "      Temp(C)  Temp_Log   Z_Score\n",
            "17       16.8  2.879198 -3.102278\n",
            "326      16.9  2.884801 -3.063854\n",
            "327      15.8  2.821379 -3.498841\n",
            "328      14.0  2.708050 -4.276122\n",
            "329      17.0  2.890372 -3.025644\n",
            "332      16.7  2.873565 -3.140918\n",
            "333      14.8  2.760010 -3.919749\n",
            "334      15.5  2.803360 -3.622424\n",
            "336      15.9  2.827314 -3.458137\n",
            "337      15.9  2.827314 -3.458137\n",
            "338      15.7  2.815409 -3.539788\n",
            "695      16.5  2.862201 -3.218858\n",
            "696      16.5  2.862201 -3.218858\n",
            "697      16.2  2.844909 -3.337454\n",
            "698      16.5  2.862201 -3.218858\n",
            "699      17.0  2.890372 -3.025644\n",
            "1392     17.0  2.890372 -3.025644\n"
          ]
        }
      ]
    },
    {
      "cell_type": "code",
      "source": [
        "# Outliers removal for Temperature\n",
        "df['Temp_Log']=np.log(df['Temp(C)']+1)\n",
        "df['Z_Score']=(df['Temp_Log']-df['Temp_Log'].mean())/df['Temp_Log'].std()\n",
        "#calculated mean\n",
        "mean_temp=df[np.abs(df['Z_Score'])<=z_threshold]['Temp(C)'].mean()\n",
        "\n",
        "#replace with mean value\n",
        "df.loc[np.abs(df['Z_Score'])>z_threshold,'Temp(C)'] = mean_temp\n",
        "\n",
        "df.drop(columns=['Temp_Log','Z_Score'],inplace=True)\n",
        "print(\"Done\")\n",
        "\n"
      ],
      "metadata": {
        "colab": {
          "base_uri": "https://localhost:8080/"
        },
        "id": "YUzT9J42IpGD",
        "outputId": "e8132b79-34e1-4ebb-fbec-0b1ad2271bcd"
      },
      "execution_count": 297,
      "outputs": [
        {
          "output_type": "stream",
          "name": "stdout",
          "text": [
            "Done\n"
          ]
        }
      ]
    },
    {
      "cell_type": "code",
      "source": [
        "#save dataset\n",
        "df.to_csv('energy_iter13d.csv',index=False)\n",
        "print(\"saved with clean data\")"
      ],
      "metadata": {
        "colab": {
          "base_uri": "https://localhost:8080/"
        },
        "id": "JkYRZkEGBf-M",
        "outputId": "d25f2aba-7f24-408d-9099-ab7e2a31cf37"
      },
      "execution_count": 298,
      "outputs": [
        {
          "output_type": "stream",
          "name": "stdout",
          "text": [
            "saved with clean data\n"
          ]
        }
      ]
    },
    {
      "cell_type": "code",
      "source": [
        "#Generation outliers check using z score\n",
        "\n",
        "#As our data is more skewed so its better to use log transformation\n",
        "df['Gen_Log']=np.log(df['Generation(MW)']+1)\n",
        "df['Z_Score']=(df['Gen_Log']-df['Gen_Log'].mean())/df['Gen_Log'].std()\n",
        "\n",
        "#define a common threshold value 3\n",
        "z_threshold=3\n",
        "\n",
        "#identify outliers\n",
        "outliers= df[np.abs(df['Z_Score'])>z_threshold]\n",
        "print('No Of outliers present:',len(outliers))\n",
        "print(outliers[['Generation(MW)','Gen_Log','Z_Score']])\n"
      ],
      "metadata": {
        "colab": {
          "base_uri": "https://localhost:8080/"
        },
        "id": "0uAIvuFuEw41",
        "outputId": "1a2bd187-5df9-44bc-f928-18e41ee8c3a4"
      },
      "execution_count": 299,
      "outputs": [
        {
          "output_type": "stream",
          "name": "stdout",
          "text": [
            "No Of outliers present: 11\n",
            "     Generation(MW)   Gen_Log   Z_Score\n",
            "680            9932  9.203618 -3.062391\n",
            "681            9675  9.177404 -3.294172\n",
            "682            9837  9.194008 -3.147363\n",
            "683            9707  9.180706 -3.264979\n",
            "685            9629  9.172639 -3.336307\n",
            "686            9565  9.165970 -3.395266\n",
            "687            9640  9.173780 -3.326213\n",
            "688            9673  9.177197 -3.296000\n",
            "689            9917  9.202107 -3.075754\n",
            "694            9482  9.157256 -3.472318\n",
            "695            9879  9.198268 -3.109696\n"
          ]
        }
      ]
    },
    {
      "cell_type": "code",
      "source": [
        "# Outliers removal for Generation\n",
        "\n",
        "\n",
        "#As our data is more skewed so its better to use log transformation\n",
        "df['Gen_Log']=np.log(df['Generation(MW)']+1)\n",
        "df['Z_Score']=(df['Gen_Log']-df['Gen_Log'].mean())/df['Gen_Log'].std()\n",
        "#calculated mean\n",
        "mean_Gen=df[np.abs(df['Z_Score'])<=z_threshold]['Generation(MW)'].mean()\n",
        "\n",
        "#replace with mean value\n",
        "df.loc[np.abs(df['Z_Score'])>z_threshold,'Generation(MW)'] = mean_Gen\n",
        "\n",
        "\n",
        "print(\"Done\")"
      ],
      "metadata": {
        "colab": {
          "base_uri": "https://localhost:8080/"
        },
        "id": "ted6C4vPOhbg",
        "outputId": "c1dc131d-2fe3-44b2-cf5b-d6aef08b9872"
      },
      "execution_count": 309,
      "outputs": [
        {
          "output_type": "stream",
          "name": "stdout",
          "text": [
            "Done\n"
          ]
        }
      ]
    },
    {
      "cell_type": "code",
      "source": [
        "df.drop(columns=['Gen_Log','Z_Score'],inplace=True)"
      ],
      "metadata": {
        "id": "aHZmzkfdTAi8"
      },
      "execution_count": 310,
      "outputs": []
    },
    {
      "cell_type": "code",
      "source": [
        "#save dataset\n",
        "df.to_csv('energy_iter13d.csv',index=False)\n",
        "print(\"saved with clean data\")"
      ],
      "metadata": {
        "colab": {
          "base_uri": "https://localhost:8080/"
        },
        "id": "anbE6edrQFNx",
        "outputId": "00a2a5eb-d6f6-4ec5-ef21-52fe2b6766c4"
      },
      "execution_count": 311,
      "outputs": [
        {
          "output_type": "stream",
          "name": "stdout",
          "text": [
            "saved with clean data\n"
          ]
        }
      ]
    },
    {
      "cell_type": "markdown",
      "source": [
        "# **Z-Score Normalization**"
      ],
      "metadata": {
        "id": "wf7rx75fPif7"
      }
    },
    {
      "cell_type": "code",
      "source": [
        "from sklearn.preprocessing import StandardScaler"
      ],
      "metadata": {
        "id": "r_0qvefnPnsE"
      },
      "execution_count": 312,
      "outputs": []
    },
    {
      "cell_type": "code",
      "source": [
        "#Standard Scaler\n",
        "\n",
        "features=[\"Demand(MW)\",\"Generation(MW)\",\"Temp(C)\",\"DemandGenGap(MW)\"]\n",
        "scaler=StandardScaler()\n",
        "df[features]=scaler.fit_transform(df[features])\n",
        "\n",
        "print(\"scaled done\")\n"
      ],
      "metadata": {
        "colab": {
          "base_uri": "https://localhost:8080/"
        },
        "id": "IQgOcmTtPmi2",
        "outputId": "24a836f9-81fc-41f7-beb5-fca55d2a2855"
      },
      "execution_count": 313,
      "outputs": [
        {
          "output_type": "stream",
          "name": "stdout",
          "text": [
            "scaled done\n"
          ]
        }
      ]
    },
    {
      "cell_type": "code",
      "source": [
        "# Save the scaler For future reverse transformation(Scaling values to original values)\n",
        "\n",
        "import joblib\n",
        "joblib.dump(scaler,\"StandardScaler2d.pkl\")"
      ],
      "metadata": {
        "colab": {
          "base_uri": "https://localhost:8080/"
        },
        "id": "Ll9GPak7Pxea",
        "outputId": "64447571-f778-4b7b-c710-7ae9d9302a9d"
      },
      "execution_count": 314,
      "outputs": [
        {
          "output_type": "execute_result",
          "data": {
            "text/plain": [
              "['StandardScaler2d.pkl']"
            ]
          },
          "metadata": {},
          "execution_count": 314
        }
      ]
    },
    {
      "cell_type": "code",
      "source": [
        "df.head(2)"
      ],
      "metadata": {
        "colab": {
          "base_uri": "https://localhost:8080/",
          "height": 112
        },
        "id": "SKuC9O64P42u",
        "outputId": "03b82c5c-5ea3-48e1-e85f-c1859b7fcb2b"
      },
      "execution_count": 315,
      "outputs": [
        {
          "output_type": "execute_result",
          "data": {
            "text/plain": [
              "         Date  Demand(MW)  Generation(MW)   Temp(C)  Year  Month  Season  \\\n",
              "0  2024-12-31   -0.855166        0.529269 -2.440777  2024     12       0   \n",
              "1  2024-12-30   -0.754021        0.888984 -1.572038  2024     12       0   \n",
              "\n",
              "   IsHoliday  DemandGenGap(MW)  \n",
              "0          0          1.588629  \n",
              "1          0          1.794999  "
            ],
            "text/html": [
              "\n",
              "  <div id=\"df-3fe02b55-05fc-4cd9-a2d5-c9afbf2617f5\" class=\"colab-df-container\">\n",
              "    <div>\n",
              "<style scoped>\n",
              "    .dataframe tbody tr th:only-of-type {\n",
              "        vertical-align: middle;\n",
              "    }\n",
              "\n",
              "    .dataframe tbody tr th {\n",
              "        vertical-align: top;\n",
              "    }\n",
              "\n",
              "    .dataframe thead th {\n",
              "        text-align: right;\n",
              "    }\n",
              "</style>\n",
              "<table border=\"1\" class=\"dataframe\">\n",
              "  <thead>\n",
              "    <tr style=\"text-align: right;\">\n",
              "      <th></th>\n",
              "      <th>Date</th>\n",
              "      <th>Demand(MW)</th>\n",
              "      <th>Generation(MW)</th>\n",
              "      <th>Temp(C)</th>\n",
              "      <th>Year</th>\n",
              "      <th>Month</th>\n",
              "      <th>Season</th>\n",
              "      <th>IsHoliday</th>\n",
              "      <th>DemandGenGap(MW)</th>\n",
              "    </tr>\n",
              "  </thead>\n",
              "  <tbody>\n",
              "    <tr>\n",
              "      <th>0</th>\n",
              "      <td>2024-12-31</td>\n",
              "      <td>-0.855166</td>\n",
              "      <td>0.529269</td>\n",
              "      <td>-2.440777</td>\n",
              "      <td>2024</td>\n",
              "      <td>12</td>\n",
              "      <td>0</td>\n",
              "      <td>0</td>\n",
              "      <td>1.588629</td>\n",
              "    </tr>\n",
              "    <tr>\n",
              "      <th>1</th>\n",
              "      <td>2024-12-30</td>\n",
              "      <td>-0.754021</td>\n",
              "      <td>0.888984</td>\n",
              "      <td>-1.572038</td>\n",
              "      <td>2024</td>\n",
              "      <td>12</td>\n",
              "      <td>0</td>\n",
              "      <td>0</td>\n",
              "      <td>1.794999</td>\n",
              "    </tr>\n",
              "  </tbody>\n",
              "</table>\n",
              "</div>\n",
              "    <div class=\"colab-df-buttons\">\n",
              "\n",
              "  <div class=\"colab-df-container\">\n",
              "    <button class=\"colab-df-convert\" onclick=\"convertToInteractive('df-3fe02b55-05fc-4cd9-a2d5-c9afbf2617f5')\"\n",
              "            title=\"Convert this dataframe to an interactive table.\"\n",
              "            style=\"display:none;\">\n",
              "\n",
              "  <svg xmlns=\"http://www.w3.org/2000/svg\" height=\"24px\" viewBox=\"0 -960 960 960\">\n",
              "    <path d=\"M120-120v-720h720v720H120Zm60-500h600v-160H180v160Zm220 220h160v-160H400v160Zm0 220h160v-160H400v160ZM180-400h160v-160H180v160Zm440 0h160v-160H620v160ZM180-180h160v-160H180v160Zm440 0h160v-160H620v160Z\"/>\n",
              "  </svg>\n",
              "    </button>\n",
              "\n",
              "  <style>\n",
              "    .colab-df-container {\n",
              "      display:flex;\n",
              "      gap: 12px;\n",
              "    }\n",
              "\n",
              "    .colab-df-convert {\n",
              "      background-color: #E8F0FE;\n",
              "      border: none;\n",
              "      border-radius: 50%;\n",
              "      cursor: pointer;\n",
              "      display: none;\n",
              "      fill: #1967D2;\n",
              "      height: 32px;\n",
              "      padding: 0 0 0 0;\n",
              "      width: 32px;\n",
              "    }\n",
              "\n",
              "    .colab-df-convert:hover {\n",
              "      background-color: #E2EBFA;\n",
              "      box-shadow: 0px 1px 2px rgba(60, 64, 67, 0.3), 0px 1px 3px 1px rgba(60, 64, 67, 0.15);\n",
              "      fill: #174EA6;\n",
              "    }\n",
              "\n",
              "    .colab-df-buttons div {\n",
              "      margin-bottom: 4px;\n",
              "    }\n",
              "\n",
              "    [theme=dark] .colab-df-convert {\n",
              "      background-color: #3B4455;\n",
              "      fill: #D2E3FC;\n",
              "    }\n",
              "\n",
              "    [theme=dark] .colab-df-convert:hover {\n",
              "      background-color: #434B5C;\n",
              "      box-shadow: 0px 1px 3px 1px rgba(0, 0, 0, 0.15);\n",
              "      filter: drop-shadow(0px 1px 2px rgba(0, 0, 0, 0.3));\n",
              "      fill: #FFFFFF;\n",
              "    }\n",
              "  </style>\n",
              "\n",
              "    <script>\n",
              "      const buttonEl =\n",
              "        document.querySelector('#df-3fe02b55-05fc-4cd9-a2d5-c9afbf2617f5 button.colab-df-convert');\n",
              "      buttonEl.style.display =\n",
              "        google.colab.kernel.accessAllowed ? 'block' : 'none';\n",
              "\n",
              "      async function convertToInteractive(key) {\n",
              "        const element = document.querySelector('#df-3fe02b55-05fc-4cd9-a2d5-c9afbf2617f5');\n",
              "        const dataTable =\n",
              "          await google.colab.kernel.invokeFunction('convertToInteractive',\n",
              "                                                    [key], {});\n",
              "        if (!dataTable) return;\n",
              "\n",
              "        const docLinkHtml = 'Like what you see? Visit the ' +\n",
              "          '<a target=\"_blank\" href=https://colab.research.google.com/notebooks/data_table.ipynb>data table notebook</a>'\n",
              "          + ' to learn more about interactive tables.';\n",
              "        element.innerHTML = '';\n",
              "        dataTable['output_type'] = 'display_data';\n",
              "        await google.colab.output.renderOutput(dataTable, element);\n",
              "        const docLink = document.createElement('div');\n",
              "        docLink.innerHTML = docLinkHtml;\n",
              "        element.appendChild(docLink);\n",
              "      }\n",
              "    </script>\n",
              "  </div>\n",
              "\n",
              "\n",
              "<div id=\"df-e0ba8851-c128-4c04-a5bd-8664a49be29f\">\n",
              "  <button class=\"colab-df-quickchart\" onclick=\"quickchart('df-e0ba8851-c128-4c04-a5bd-8664a49be29f')\"\n",
              "            title=\"Suggest charts\"\n",
              "            style=\"display:none;\">\n",
              "\n",
              "<svg xmlns=\"http://www.w3.org/2000/svg\" height=\"24px\"viewBox=\"0 0 24 24\"\n",
              "     width=\"24px\">\n",
              "    <g>\n",
              "        <path d=\"M19 3H5c-1.1 0-2 .9-2 2v14c0 1.1.9 2 2 2h14c1.1 0 2-.9 2-2V5c0-1.1-.9-2-2-2zM9 17H7v-7h2v7zm4 0h-2V7h2v10zm4 0h-2v-4h2v4z\"/>\n",
              "    </g>\n",
              "</svg>\n",
              "  </button>\n",
              "\n",
              "<style>\n",
              "  .colab-df-quickchart {\n",
              "      --bg-color: #E8F0FE;\n",
              "      --fill-color: #1967D2;\n",
              "      --hover-bg-color: #E2EBFA;\n",
              "      --hover-fill-color: #174EA6;\n",
              "      --disabled-fill-color: #AAA;\n",
              "      --disabled-bg-color: #DDD;\n",
              "  }\n",
              "\n",
              "  [theme=dark] .colab-df-quickchart {\n",
              "      --bg-color: #3B4455;\n",
              "      --fill-color: #D2E3FC;\n",
              "      --hover-bg-color: #434B5C;\n",
              "      --hover-fill-color: #FFFFFF;\n",
              "      --disabled-bg-color: #3B4455;\n",
              "      --disabled-fill-color: #666;\n",
              "  }\n",
              "\n",
              "  .colab-df-quickchart {\n",
              "    background-color: var(--bg-color);\n",
              "    border: none;\n",
              "    border-radius: 50%;\n",
              "    cursor: pointer;\n",
              "    display: none;\n",
              "    fill: var(--fill-color);\n",
              "    height: 32px;\n",
              "    padding: 0;\n",
              "    width: 32px;\n",
              "  }\n",
              "\n",
              "  .colab-df-quickchart:hover {\n",
              "    background-color: var(--hover-bg-color);\n",
              "    box-shadow: 0 1px 2px rgba(60, 64, 67, 0.3), 0 1px 3px 1px rgba(60, 64, 67, 0.15);\n",
              "    fill: var(--button-hover-fill-color);\n",
              "  }\n",
              "\n",
              "  .colab-df-quickchart-complete:disabled,\n",
              "  .colab-df-quickchart-complete:disabled:hover {\n",
              "    background-color: var(--disabled-bg-color);\n",
              "    fill: var(--disabled-fill-color);\n",
              "    box-shadow: none;\n",
              "  }\n",
              "\n",
              "  .colab-df-spinner {\n",
              "    border: 2px solid var(--fill-color);\n",
              "    border-color: transparent;\n",
              "    border-bottom-color: var(--fill-color);\n",
              "    animation:\n",
              "      spin 1s steps(1) infinite;\n",
              "  }\n",
              "\n",
              "  @keyframes spin {\n",
              "    0% {\n",
              "      border-color: transparent;\n",
              "      border-bottom-color: var(--fill-color);\n",
              "      border-left-color: var(--fill-color);\n",
              "    }\n",
              "    20% {\n",
              "      border-color: transparent;\n",
              "      border-left-color: var(--fill-color);\n",
              "      border-top-color: var(--fill-color);\n",
              "    }\n",
              "    30% {\n",
              "      border-color: transparent;\n",
              "      border-left-color: var(--fill-color);\n",
              "      border-top-color: var(--fill-color);\n",
              "      border-right-color: var(--fill-color);\n",
              "    }\n",
              "    40% {\n",
              "      border-color: transparent;\n",
              "      border-right-color: var(--fill-color);\n",
              "      border-top-color: var(--fill-color);\n",
              "    }\n",
              "    60% {\n",
              "      border-color: transparent;\n",
              "      border-right-color: var(--fill-color);\n",
              "    }\n",
              "    80% {\n",
              "      border-color: transparent;\n",
              "      border-right-color: var(--fill-color);\n",
              "      border-bottom-color: var(--fill-color);\n",
              "    }\n",
              "    90% {\n",
              "      border-color: transparent;\n",
              "      border-bottom-color: var(--fill-color);\n",
              "    }\n",
              "  }\n",
              "</style>\n",
              "\n",
              "  <script>\n",
              "    async function quickchart(key) {\n",
              "      const quickchartButtonEl =\n",
              "        document.querySelector('#' + key + ' button');\n",
              "      quickchartButtonEl.disabled = true;  // To prevent multiple clicks.\n",
              "      quickchartButtonEl.classList.add('colab-df-spinner');\n",
              "      try {\n",
              "        const charts = await google.colab.kernel.invokeFunction(\n",
              "            'suggestCharts', [key], {});\n",
              "      } catch (error) {\n",
              "        console.error('Error during call to suggestCharts:', error);\n",
              "      }\n",
              "      quickchartButtonEl.classList.remove('colab-df-spinner');\n",
              "      quickchartButtonEl.classList.add('colab-df-quickchart-complete');\n",
              "    }\n",
              "    (() => {\n",
              "      let quickchartButtonEl =\n",
              "        document.querySelector('#df-e0ba8851-c128-4c04-a5bd-8664a49be29f button');\n",
              "      quickchartButtonEl.style.display =\n",
              "        google.colab.kernel.accessAllowed ? 'block' : 'none';\n",
              "    })();\n",
              "  </script>\n",
              "</div>\n",
              "\n",
              "    </div>\n",
              "  </div>\n"
            ],
            "application/vnd.google.colaboratory.intrinsic+json": {
              "type": "dataframe",
              "variable_name": "df",
              "summary": "{\n  \"name\": \"df\",\n  \"rows\": 1636,\n  \"fields\": [\n    {\n      \"column\": \"Date\",\n      \"properties\": {\n        \"dtype\": \"object\",\n        \"num_unique_values\": 1636,\n        \"samples\": [\n          \"2023-01-27\",\n          \"2020-07-18\",\n          \"2022-03-24\"\n        ],\n        \"semantic_type\": \"\",\n        \"description\": \"\"\n      }\n    },\n    {\n      \"column\": \"Demand(MW)\",\n      \"properties\": {\n        \"dtype\": \"number\",\n        \"std\": 1.0003057636518407,\n        \"min\": -2.271191917285229,\n        \"max\": 2.5331827328820347,\n        \"num_unique_values\": 107,\n        \"samples\": [\n          -1.7654682698992012,\n          -1.0068827988201596,\n          -0.8045933398657485\n        ],\n        \"semantic_type\": \"\",\n        \"description\": \"\"\n      }\n    },\n    {\n      \"column\": \"Generation(MW)\",\n      \"properties\": {\n        \"dtype\": \"number\",\n        \"std\": 1.0003057636518482,\n        \"min\": -2.688336295532315,\n        \"max\": 2.3681930927016,\n        \"num_unique_values\": 1363,\n        \"samples\": [\n          0.7891389464435381,\n          -1.254262434682096,\n          -1.6173970174724948\n        ],\n        \"semantic_type\": \"\",\n        \"description\": \"\"\n      }\n    },\n    {\n      \"column\": \"Temp(C)\",\n      \"properties\": {\n        \"dtype\": \"number\",\n        \"std\": 1.0003057636518449,\n        \"min\": -2.5808967262517895,\n        \"max\": 1.7908257417123303,\n        \"num_unique_values\": 159,\n        \"samples\": [\n          0.641847400773043,\n          1.6787302938158148,\n          -1.5159899712348879\n        ],\n        \"semantic_type\": \"\",\n        \"description\": \"\"\n      }\n    },\n    {\n      \"column\": \"Year\",\n      \"properties\": {\n        \"dtype\": \"number\",\n        \"std\": 1,\n        \"min\": 2020,\n        \"max\": 2024,\n        \"num_unique_values\": 5,\n        \"samples\": [\n          2023,\n          2020,\n          2022\n        ],\n        \"semantic_type\": \"\",\n        \"description\": \"\"\n      }\n    },\n    {\n      \"column\": \"Month\",\n      \"properties\": {\n        \"dtype\": \"number\",\n        \"std\": 3,\n        \"min\": 1,\n        \"max\": 12,\n        \"num_unique_values\": 12,\n        \"samples\": [\n          2,\n          3,\n          12\n        ],\n        \"semantic_type\": \"\",\n        \"description\": \"\"\n      }\n    },\n    {\n      \"column\": \"Season\",\n      \"properties\": {\n        \"dtype\": \"number\",\n        \"std\": 0,\n        \"min\": 0,\n        \"max\": 1,\n        \"num_unique_values\": 2,\n        \"samples\": [\n          1,\n          0\n        ],\n        \"semantic_type\": \"\",\n        \"description\": \"\"\n      }\n    },\n    {\n      \"column\": \"IsHoliday\",\n      \"properties\": {\n        \"dtype\": \"number\",\n        \"std\": 0,\n        \"min\": 0,\n        \"max\": 1,\n        \"num_unique_values\": 2,\n        \"samples\": [\n          1,\n          0\n        ],\n        \"semantic_type\": \"\",\n        \"description\": \"\"\n      }\n    },\n    {\n      \"column\": \"DemandGenGap(MW)\",\n      \"properties\": {\n        \"dtype\": \"number\",\n        \"std\": 1.000305763651848,\n        \"min\": -2.7058948072122546,\n        \"max\": 3.0053662591439334,\n        \"num_unique_values\": 1405,\n        \"samples\": [\n          0.15543306021514205,\n          -0.9511158584271342\n        ],\n        \"semantic_type\": \"\",\n        \"description\": \"\"\n      }\n    }\n  ]\n}"
            }
          },
          "metadata": {},
          "execution_count": 315
        }
      ]
    },
    {
      "cell_type": "code",
      "source": [
        "#save dataset\n",
        "df.to_csv('energy_iter13d.csv',index=False)\n",
        "print(\"saved with clean data\")"
      ],
      "metadata": {
        "colab": {
          "base_uri": "https://localhost:8080/"
        },
        "id": "WvDYAvwMP32Q",
        "outputId": "fe484e8c-4416-4079-a6ba-eb5ac084f560"
      },
      "execution_count": 316,
      "outputs": [
        {
          "output_type": "stream",
          "name": "stdout",
          "text": [
            "saved with clean data\n"
          ]
        }
      ]
    }
  ]
}